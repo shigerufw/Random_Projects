{
 "cells": [
  {
   "cell_type": "markdown",
   "metadata": {},
   "source": [
    "# Titanic Project Capstone\n",
    "## Introduction and Foundations to machine learning\n",
    "## Project: Titanic Survival Exploration and ML classifier\n",
    "    \n",
    "<p>In 1912, the ship RMS Titanic struck an iceberg on its maiden voyage and sank, resulting in the deaths of most of its passengers and crew. In February 2019 the dataset of the passagers we're released on wikipedia <a href = https://en.wikipedia.org/wiki/Passengers_of_the_RMS_Titanic>Titanic passenger list</a>. </p><br>\n",
    "    In this project, we will explore RMS Titanic passenger manifest, try to see some patterns in the given data and determine which features best predict whether someone survived or did not survive with some machine learning classifiers."
   ]
  },
  {
   "cell_type": "markdown",
   "metadata": {},
   "source": [
    "### Importing Libraries"
   ]
  },
  {
   "cell_type": "code",
   "execution_count": 1,
   "metadata": {},
   "outputs": [],
   "source": [
    "import pandas as pd\n",
    "import numpy as np\n",
    "import matplotlib.pyplot as plt\n",
    "import seaborn as sns\n",
    "%matplotlib inline"
   ]
  },
  {
   "cell_type": "markdown",
   "metadata": {},
   "source": [
    "### Data info\n",
    "\n",
    "<ul>\n",
    "<li>PassengerId = passenger id</li>\n",
    "<li>Pclass = 1(1st), 2(2nd), 3(3rd)</li>\n",
    "<li>Sex = male or female</li>\n",
    "<li>SibSp = # of siblings / spouses aboard the Titanic</li>\n",
    "<li>Parch = # of parents / children aboard the Titanic</li>\n",
    "<li>Ticket = ticket number</li>\n",
    "<li>Fare = Passenger fare</li>\n",
    "<li>Cabin = cabin number</li>\n",
    "<li>Embarked = port of embarkation / C = Cherbourg, Q = Queenstown, S = Southampton</li>\n",
    "<li>wikiId</li>   \n",
    "<li>Name = passenger name</li> \n",
    "<li>Age = age in years</li>\n",
    "<li>Hometown </li>\n",
    "<li>Destination</li>\n",
    "<li>Lifeboat</li>\n",
    "<li>Body</li>   \n",
    "<li>Survived = 0(no) or 1(yes)</li>\n",
    "   \n",
    "  \n",
    "</ul>\n"
   ]
  },
  {
   "cell_type": "markdown",
   "metadata": {},
   "source": [
    "## Importing Data and Data Cleaning"
   ]
  },
  {
   "cell_type": "code",
   "execution_count": 2,
   "metadata": {},
   "outputs": [
    {
     "data": {
      "text/html": [
       "<div>\n",
       "<style scoped>\n",
       "    .dataframe tbody tr th:only-of-type {\n",
       "        vertical-align: middle;\n",
       "    }\n",
       "\n",
       "    .dataframe tbody tr th {\n",
       "        vertical-align: top;\n",
       "    }\n",
       "\n",
       "    .dataframe thead th {\n",
       "        text-align: right;\n",
       "    }\n",
       "</style>\n",
       "<table border=\"1\" class=\"dataframe\">\n",
       "  <thead>\n",
       "    <tr style=\"text-align: right;\">\n",
       "      <th></th>\n",
       "      <th>PassengerId</th>\n",
       "      <th>Pclass</th>\n",
       "      <th>Sex</th>\n",
       "      <th>SibSp</th>\n",
       "      <th>Parch</th>\n",
       "      <th>Ticket</th>\n",
       "      <th>Fare</th>\n",
       "      <th>Cabin</th>\n",
       "      <th>Embarked</th>\n",
       "      <th>WikiId</th>\n",
       "      <th>Name</th>\n",
       "      <th>Age</th>\n",
       "      <th>Hometown</th>\n",
       "      <th>Boarded</th>\n",
       "      <th>Destination</th>\n",
       "      <th>Lifeboat</th>\n",
       "      <th>Body</th>\n",
       "      <th>Survived</th>\n",
       "    </tr>\n",
       "  </thead>\n",
       "  <tbody>\n",
       "    <tr>\n",
       "      <th>0</th>\n",
       "      <td>1</td>\n",
       "      <td>3</td>\n",
       "      <td>male</td>\n",
       "      <td>1</td>\n",
       "      <td>0</td>\n",
       "      <td>A/5 21171</td>\n",
       "      <td>7.2500</td>\n",
       "      <td>NaN</td>\n",
       "      <td>S</td>\n",
       "      <td>691.0</td>\n",
       "      <td>Braund, Mr. Owen Harris</td>\n",
       "      <td>22.0</td>\n",
       "      <td>Bridgerule, Devon, England</td>\n",
       "      <td>Southampton</td>\n",
       "      <td>Qu'Appelle Valley, Saskatchewan, Canada</td>\n",
       "      <td>NaN</td>\n",
       "      <td>NaN</td>\n",
       "      <td>0</td>\n",
       "    </tr>\n",
       "    <tr>\n",
       "      <th>1</th>\n",
       "      <td>2</td>\n",
       "      <td>1</td>\n",
       "      <td>female</td>\n",
       "      <td>1</td>\n",
       "      <td>0</td>\n",
       "      <td>PC 17599</td>\n",
       "      <td>71.2833</td>\n",
       "      <td>C85</td>\n",
       "      <td>C</td>\n",
       "      <td>90.0</td>\n",
       "      <td>Cumings, Mrs. Florence Briggs (née Thayer)</td>\n",
       "      <td>35.0</td>\n",
       "      <td>New York, New York, US</td>\n",
       "      <td>Cherbourg</td>\n",
       "      <td>New York, New York, US</td>\n",
       "      <td>4</td>\n",
       "      <td>NaN</td>\n",
       "      <td>1</td>\n",
       "    </tr>\n",
       "    <tr>\n",
       "      <th>2</th>\n",
       "      <td>3</td>\n",
       "      <td>3</td>\n",
       "      <td>female</td>\n",
       "      <td>0</td>\n",
       "      <td>0</td>\n",
       "      <td>STON/O2. 3101282</td>\n",
       "      <td>7.9250</td>\n",
       "      <td>NaN</td>\n",
       "      <td>S</td>\n",
       "      <td>865.0</td>\n",
       "      <td>Heikkinen, Miss Laina</td>\n",
       "      <td>26.0</td>\n",
       "      <td>Jyväskylä, Finland</td>\n",
       "      <td>Southampton</td>\n",
       "      <td>New York City</td>\n",
       "      <td>14?</td>\n",
       "      <td>NaN</td>\n",
       "      <td>1</td>\n",
       "    </tr>\n",
       "    <tr>\n",
       "      <th>3</th>\n",
       "      <td>4</td>\n",
       "      <td>1</td>\n",
       "      <td>female</td>\n",
       "      <td>1</td>\n",
       "      <td>0</td>\n",
       "      <td>113803</td>\n",
       "      <td>53.1000</td>\n",
       "      <td>C123</td>\n",
       "      <td>S</td>\n",
       "      <td>127.0</td>\n",
       "      <td>Futrelle, Mrs. Lily May (née Peel)</td>\n",
       "      <td>35.0</td>\n",
       "      <td>Scituate, Massachusetts, US</td>\n",
       "      <td>Southampton</td>\n",
       "      <td>Scituate, Massachusetts, US</td>\n",
       "      <td>D</td>\n",
       "      <td>NaN</td>\n",
       "      <td>1</td>\n",
       "    </tr>\n",
       "    <tr>\n",
       "      <th>4</th>\n",
       "      <td>5</td>\n",
       "      <td>3</td>\n",
       "      <td>male</td>\n",
       "      <td>0</td>\n",
       "      <td>0</td>\n",
       "      <td>373450</td>\n",
       "      <td>8.0500</td>\n",
       "      <td>NaN</td>\n",
       "      <td>S</td>\n",
       "      <td>627.0</td>\n",
       "      <td>Allen, Mr. William Henry</td>\n",
       "      <td>35.0</td>\n",
       "      <td>Birmingham, West Midlands, England</td>\n",
       "      <td>Southampton</td>\n",
       "      <td>New York City</td>\n",
       "      <td>NaN</td>\n",
       "      <td>NaN</td>\n",
       "      <td>0</td>\n",
       "    </tr>\n",
       "  </tbody>\n",
       "</table>\n",
       "</div>"
      ],
      "text/plain": [
       "   PassengerId  Pclass     Sex  SibSp  Parch            Ticket     Fare Cabin  \\\n",
       "0            1       3    male      1      0         A/5 21171   7.2500   NaN   \n",
       "1            2       1  female      1      0          PC 17599  71.2833   C85   \n",
       "2            3       3  female      0      0  STON/O2. 3101282   7.9250   NaN   \n",
       "3            4       1  female      1      0            113803  53.1000  C123   \n",
       "4            5       3    male      0      0            373450   8.0500   NaN   \n",
       "\n",
       "  Embarked  WikiId                                        Name   Age  \\\n",
       "0        S   691.0                     Braund, Mr. Owen Harris  22.0   \n",
       "1        C    90.0  Cumings, Mrs. Florence Briggs (née Thayer)  35.0   \n",
       "2        S   865.0                       Heikkinen, Miss Laina  26.0   \n",
       "3        S   127.0          Futrelle, Mrs. Lily May (née Peel)  35.0   \n",
       "4        S   627.0                    Allen, Mr. William Henry  35.0   \n",
       "\n",
       "                             Hometown      Boarded  \\\n",
       "0          Bridgerule, Devon, England  Southampton   \n",
       "1              New York, New York, US    Cherbourg   \n",
       "2                  Jyväskylä, Finland  Southampton   \n",
       "3         Scituate, Massachusetts, US  Southampton   \n",
       "4  Birmingham, West Midlands, England  Southampton   \n",
       "\n",
       "                               Destination Lifeboat Body  Survived  \n",
       "0  Qu'Appelle Valley, Saskatchewan, Canada      NaN  NaN         0  \n",
       "1                   New York, New York, US        4  NaN         1  \n",
       "2                            New York City      14?  NaN         1  \n",
       "3              Scituate, Massachusetts, US        D  NaN         1  \n",
       "4                            New York City      NaN  NaN         0  "
      ]
     },
     "execution_count": 2,
     "metadata": {},
     "output_type": "execute_result"
    }
   ],
   "source": [
    "data = pd.read_csv('titanic_full.csv')\n",
    "data.head()"
   ]
  },
  {
   "cell_type": "markdown",
   "metadata": {},
   "source": [
    "### Exploring the dataset"
   ]
  },
  {
   "cell_type": "markdown",
   "metadata": {},
   "source": [
    "#### Columns names and columns indexes"
   ]
  },
  {
   "cell_type": "code",
   "execution_count": 3,
   "metadata": {
    "scrolled": true
   },
   "outputs": [
    {
     "name": "stdout",
     "output_type": "stream",
     "text": [
      "0 PassengerId\n",
      "1 Pclass\n",
      "2 Sex\n",
      "3 SibSp\n",
      "4 Parch\n",
      "5 Ticket\n",
      "6 Fare\n",
      "7 Cabin\n",
      "8 Embarked\n",
      "9 WikiId\n",
      "10 Name\n",
      "11 Age\n",
      "12 Hometown\n",
      "13 Boarded\n",
      "14 Destination\n",
      "15 Lifeboat\n",
      "16 Body\n",
      "17 Survived\n",
      "\n",
      "There are 18 columns in titanic dataset\n"
     ]
    }
   ],
   "source": [
    "columns = data.columns\n",
    "for index, item in enumerate(columns):\n",
    "    print(index,item)\n",
    "print(\"\")    \n",
    "print('There are {} columns in titanic dataset'.format(len(columns)))"
   ]
  },
  {
   "cell_type": "markdown",
   "metadata": {},
   "source": [
    "### Observing missing values and columns datatypes"
   ]
  },
  {
   "cell_type": "code",
   "execution_count": 4,
   "metadata": {},
   "outputs": [
    {
     "name": "stdout",
     "output_type": "stream",
     "text": [
      "<class 'pandas.core.frame.DataFrame'>\n",
      "RangeIndex: 1309 entries, 0 to 1308\n",
      "Data columns (total 18 columns):\n",
      "PassengerId    1309 non-null int64\n",
      "Pclass         1309 non-null int64\n",
      "Sex            1309 non-null object\n",
      "SibSp          1309 non-null int64\n",
      "Parch          1309 non-null int64\n",
      "Ticket         1309 non-null object\n",
      "Fare           1308 non-null float64\n",
      "Cabin          295 non-null object\n",
      "Embarked       1307 non-null object\n",
      "WikiId         1304 non-null float64\n",
      "Name           1304 non-null object\n",
      "Age            1302 non-null float64\n",
      "Hometown       1304 non-null object\n",
      "Boarded        1304 non-null object\n",
      "Destination    1304 non-null object\n",
      "Lifeboat       502 non-null object\n",
      "Body           130 non-null object\n",
      "Survived       1309 non-null int64\n",
      "dtypes: float64(3), int64(5), object(10)\n",
      "memory usage: 184.2+ KB\n"
     ]
    }
   ],
   "source": [
    "data.info()"
   ]
  },
  {
   "cell_type": "code",
   "execution_count": 5,
   "metadata": {
    "scrolled": true
   },
   "outputs": [
    {
     "data": {
      "text/plain": [
       "<matplotlib.axes._subplots.AxesSubplot at 0x19bdb657c18>"
      ]
     },
     "execution_count": 5,
     "metadata": {},
     "output_type": "execute_result"
    },
    {
     "data": {
      "image/png": "[encoded data removed]",
      "text/plain": [
       "<Figure size 864x288 with 1 Axes>"
      ]
     },
     "metadata": {
      "needs_background": "light"
     },
     "output_type": "display_data"
    }
   ],
   "source": [
    "plt.figure(figsize=(12,4))\n",
    "sns.heatmap(data.isnull(), yticklabels=False, cbar=False, cmap='viridis')"
   ]
  },
  {
   "cell_type": "markdown",
   "metadata": {},
   "source": [
    "note1 : yellow spaces are missing datapoints"
   ]
  },
  {
   "cell_type": "code",
   "execution_count": 6,
   "metadata": {},
   "outputs": [],
   "source": [
    "data['Age'] = data['Age'].astype(int, errors = 'ignore')"
   ]
  },
  {
   "cell_type": "markdown",
   "metadata": {},
   "source": [
    "### Removing columns with 80% of missing data"
   ]
  },
  {
   "cell_type": "code",
   "execution_count": 7,
   "metadata": {},
   "outputs": [
    {
     "name": "stdout",
     "output_type": "stream",
     "text": [
      "Cabin column was removed from dataset \n",
      "Lifeboat column was removed from dataset \n",
      "Body column was removed from dataset \n"
     ]
    }
   ],
   "source": [
    "thresh = 0.8\n",
    "for element in data.columns:\n",
    "    if data[element].count() < len(data['PassengerId'])*thresh:\n",
    "        del data[element]\n",
    "        print('%s column was removed from dataset '%(element))"
   ]
  },
  {
   "cell_type": "code",
   "execution_count": 8,
   "metadata": {},
   "outputs": [
    {
     "data": {
      "text/plain": [
       "<matplotlib.axes._subplots.AxesSubplot at 0x19bdc774cc0>"
      ]
     },
     "execution_count": 8,
     "metadata": {},
     "output_type": "execute_result"
    },
    {
     "data": {
      "image/png": "[encoded data removed]",
      "text/plain": [
       "<Figure size 864x288 with 1 Axes>"
      ]
     },
     "metadata": {
      "needs_background": "light"
     },
     "output_type": "display_data"
    }
   ],
   "source": [
    "plt.figure(figsize=(12,4))\n",
    "sns.heatmap(data.isnull(), yticklabels=False, cbar=False, cmap='viridis')"
   ]
  },
  {
   "cell_type": "markdown",
   "metadata": {},
   "source": [
    "Obs: yellow spaces are missing datapoints"
   ]
  },
  {
   "cell_type": "code",
   "execution_count": 9,
   "metadata": {},
   "outputs": [],
   "source": [
    "data.dropna(inplace = True)"
   ]
  },
  {
   "cell_type": "code",
   "execution_count": 10,
   "metadata": {},
   "outputs": [],
   "source": [
    "data['Age'] = data['Age'].astype(np.int)"
   ]
  },
  {
   "cell_type": "markdown",
   "metadata": {},
   "source": [
    "## Data Visualization "
   ]
  },
  {
   "cell_type": "markdown",
   "metadata": {},
   "source": [
    "#### Count plot "
   ]
  },
  {
   "cell_type": "code",
   "execution_count": 11,
   "metadata": {},
   "outputs": [
    {
     "data": {
      "text/plain": [
       "Text(0.5, 1.0, 'Survived counts')"
      ]
     },
     "execution_count": 11,
     "metadata": {},
     "output_type": "execute_result"
    },
    {
     "data": {
      "image/png": "[encoded data removed]",
      "text/plain": [
       "<Figure size 864x576 with 1 Axes>"
      ]
     },
     "metadata": {
      "needs_background": "light"
     },
     "output_type": "display_data"
    }
   ],
   "source": [
    "plt.figure(figsize=(12,8))\n",
    "colors = [\"#3498db\", \"#e74c3c\"]\n",
    "sns.set_palette(colors)\n",
    "sns.countplot(data['Survived'], hue = data['Sex'] )\n",
    "plt.xticks(np.arange(0,2),('Not Survived', 'Survived'))\n",
    "plt.xlabel(\" \")\n",
    "plt.title('Survived counts')"
   ]
  },
  {
   "cell_type": "code",
   "execution_count": 12,
   "metadata": {},
   "outputs": [
    {
     "name": "stdout",
     "output_type": "stream",
     "text": [
      "838 (64.51 ptc) of 1299 passengers are males\n",
      "461 (35.49 ptc) of 1299 passengers are females\n",
      " \n",
      "729 (86.99 pct) males in that ship did not survived and 109 (13.01 pct) survived \n",
      "81 (17.57 pct) females in that ship did not survived and 380 (82.43 pct) survived \n"
     ]
    }
   ],
   "source": [
    "mask1 = data['Sex']=='male'\n",
    "mask2 = data['Sex'] == 'female'\n",
    "mask3 = data['Survived'] == 0\n",
    "mask4 = data['Survived'] == 1\n",
    "\n",
    "male_died = len(data[mask1 & mask3])\n",
    "male_survived = len(data[mask1 & mask4])\n",
    "male_total = len(data[mask1])\n",
    "\n",
    "female_died = len(data[mask2 & mask3])\n",
    "female_survived = len(data[mask2 & mask4])\n",
    "female_total = len(data[mask2])\n",
    "\n",
    "print('%i (%.2f ptc) of %i passengers are males' %(male_total, male_total/(male_total+female_total)*100,male_total+female_total))\n",
    "print('%i (%.2f ptc) of %i passengers are females' %(female_total, female_total/(male_total+female_total)*100,male_total+female_total))\n",
    "\n",
    "print(\" \")\n",
    "print('%i (%.2f pct) males in that ship did not survived and %i (%.2f pct) survived ' %(male_died,male_died/male_total*100,male_survived , male_survived/male_total*100 ))\n",
    "print('%i (%.2f pct) females in that ship did not survived and %i (%.2f pct) survived ' %(female_died,female_died/female_total*100,female_survived ,female_survived/female_total*100))\n"
   ]
  },
  {
   "cell_type": "markdown",
   "metadata": {},
   "source": [
    "note 1 : We can see that there's a difference in survival statistics and females aboard the ship had 82.43% survival rate and men had only 13.01% survival rate "
   ]
  },
  {
   "cell_type": "code",
   "execution_count": 13,
   "metadata": {},
   "outputs": [
    {
     "data": {
      "text/plain": [
       "['#fee5c3', '#fdcd96', '#fda872', '#f4764f', '#de3f2b', '#b80604']"
      ]
     },
     "execution_count": 13,
     "metadata": {},
     "output_type": "execute_result"
    }
   ],
   "source": [
    "#Adjusting seaborn collor palette , https://www.codecademy.com/articles/seaborn-design-ii\n",
    "pal = sns.color_palette('OrRd')\n",
    "pal.as_hex()"
   ]
  },
  {
   "cell_type": "code",
   "execution_count": 14,
   "metadata": {},
   "outputs": [
    {
     "data": {
      "image/png": "[encoded data removed]",
      "text/plain": [
       "<Figure size 864x288 with 1 Axes>"
      ]
     },
     "metadata": {
      "needs_background": "light"
     },
     "output_type": "display_data"
    }
   ],
   "source": [
    "plt.figure(figsize=(12,4))\n",
    "color_d = ['#f4764f','#66c2a5']\n",
    "sns.set_palette(color_d)\n",
    "\n",
    "sns.countplot(data[data['Sex'] == 'male']['Age'], hue = data['Survived'] )\n",
    "plt.xticks(np.arange(0,80, 5), (np.arange(0,80,5)))\n",
    "plt.xlabel(\"Age\")\n",
    "plt.title('Male Survival Statistics')\n",
    "plt.tight_layout()"
   ]
  },
  {
   "cell_type": "markdown",
   "metadata": {},
   "source": [
    "note 2 : there's a peak in deaths of males between 15 and 35"
   ]
  },
  {
   "cell_type": "code",
   "execution_count": 15,
   "metadata": {},
   "outputs": [
    {
     "data": {
      "image/png": "[encoded data removed]",
      "text/plain": [
       "<Figure size 864x288 with 1 Axes>"
      ]
     },
     "metadata": {
      "needs_background": "light"
     },
     "output_type": "display_data"
    }
   ],
   "source": [
    "plt.figure(figsize=(12,4))\n",
    "sns.countplot(data[data['Sex'] == 'female']['Age'], hue = data['Survived'] )\n",
    "plt.xticks(np.arange(0,80, 5), (np.arange(0,80,5)))\n",
    "plt.xlabel(\"Age\")\n",
    "plt.title('Female Survival Statistics')\n",
    "plt.tight_layout()"
   ]
  },
  {
   "cell_type": "markdown",
   "metadata": {},
   "source": [
    "note 3 : there's a peak in deaths of females between 15 and 36"
   ]
  },
  {
   "cell_type": "code",
   "execution_count": 71,
   "metadata": {
    "scrolled": false
   },
   "outputs": [
    {
     "data": {
      "image/png": "[encoded data removed]",
      "text/plain": [
       "<Figure size 864x576 with 1 Axes>"
      ]
     },
     "metadata": {
      "needs_background": "light"
     },
     "output_type": "display_data"
    }
   ],
   "source": [
    "plt.figure(figsize=(12,8))\n",
    "sns.countplot(data['Pclass'], hue = data['Survived'] )\n",
    "#plt.xticks(np.arange(0,80, 5), (np.arange(0,80,5)))\n",
    "#plt.xlabel(\"Age\")\n",
    "plt.title('Passenger class Survival stats')\n",
    "plt.tight_layout()"
   ]
  },
  {
   "cell_type": "code",
   "execution_count": 17,
   "metadata": {
    "scrolled": true
   },
   "outputs": [
    {
     "name": "stdout",
     "output_type": "stream",
     "text": [
      "Stats for 1th class:\n",
      "males:\n",
      "there are 178 males, 45 survived, 133 didn't survived\n",
      "females:\n",
      "there are 141 females, 138 survived, 3 didn't survived\n",
      " \n",
      "Stats for 2nd class:\n",
      "males:\n",
      "there are 171 males, 17 survived, 154 didn't survived\n",
      "females:\n",
      "there are 106 females, 100 survived, 6 didn't survived\n",
      " \n",
      "Stats for 3nd class:\n",
      "males:\n",
      "there are 489 males, 47 survived, 442 didn't survived\n",
      "females:\n",
      "there are 214 females, 142 survived, 72 didn't survived\n",
      " \n",
      "0.63 passengers did not survived we're in the 3rd class\n",
      "0.89 females did not survived we're in the 3rd class\n"
     ]
    }
   ],
   "source": [
    "mask1 = data['Sex']=='male'\n",
    "mask2 = data['Sex'] == 'female'\n",
    "mask3 = data['Survived'] == 0\n",
    "mask4 = data['Survived'] == 1\n",
    "\n",
    "mask8 = data['Pclass'] == 1\n",
    "mask9 = data['Pclass'] == 2\n",
    "mask10 = data['Pclass'] == 3\n",
    "\n",
    "#males and females 1th class\n",
    "print('Stats for 1th class:')\n",
    "print('males:')\n",
    "print('there are %i males, %i survived, %i didn\\'t survived' %(len(data[mask1 & mask8]), len(data[mask1 & mask8  &mask4]), len(data[mask1 & mask8  &mask3]))) \n",
    "print('females:')\n",
    "print('there are %i females, %i survived, %i didn\\'t survived' %(len(data[mask2 & mask8]), len(data[mask2 & mask8  &mask4]), len(data[mask2 & mask8  &mask3]))) \n",
    "print(\" \")\n",
    "#males and females 2nd class\n",
    "print('Stats for 2nd class:')\n",
    "print('males:')\n",
    "print('there are %i males, %i survived, %i didn\\'t survived' %(len(data[mask1 & mask9]), len(data[mask1 & mask9  &mask4]), len(data[mask1 & mask9  &mask3]))) \n",
    "print('females:')\n",
    "print('there are %i females, %i survived, %i didn\\'t survived' %(len(data[mask2 & mask9]), len(data[mask2 & mask9 &mask4]), len(data[mask2 & mask9  &mask3]))) \n",
    "print(\" \")\n",
    "\n",
    "#males and females 3rd class\n",
    "\n",
    "print('Stats for 3nd class:')\n",
    "print('males:')\n",
    "print('there are %i males, %i survived, %i didn\\'t survived' % (len(data[mask1 & mask10]), len(data[mask1 & mask10  &mask4]), len(data[mask1 & mask10  &mask3]))) \n",
    "print('females:')\n",
    "print('there are %i females, %i survived, %i didn\\'t survived' % (len(data[mask2 & mask10]), len(data[mask2 & mask10 &mask4]), len(data[mask2 & mask10  &mask3]))) \n",
    "print(\" \")\n",
    "\n",
    "d3c = len(data[mask2 & mask10  &mask3])/len(data[mask2 & mask3])\n",
    "t_d = len(data[mask3 & mask10])/len(data[mask3])\n",
    "\n",
    "print('%.2f passengers did not survived we\\'re in the 3rd class' % (t_d))\n",
    "\n",
    "print('%.2f females did not survived we\\'re in the 3rd class' % (d3c))\n",
    "\n"
   ]
  },
  {
   "cell_type": "markdown",
   "metadata": {},
   "source": [
    "note 4: 63% of passengers that didn't survived we're in the 3rd class<br>\n",
    "note 5: 88% of woman that didn't survived we're in the 3rd class"
   ]
  },
  {
   "cell_type": "markdown",
   "metadata": {},
   "source": [
    "## Machine Learning Classifiers "
   ]
  },
  {
   "cell_type": "markdown",
   "metadata": {},
   "source": [
    "### Splitting the data"
   ]
  },
  {
   "cell_type": "code",
   "execution_count": 18,
   "metadata": {},
   "outputs": [],
   "source": [
    "from sklearn.model_selection import train_test_split"
   ]
  },
  {
   "cell_type": "code",
   "execution_count": 19,
   "metadata": {},
   "outputs": [],
   "source": [
    "X = data.drop(['PassengerId','Survived','Ticket','WikiId','Name','Hometown','Embarked','Destination'], axis =1)\n",
    "y = data['Survived']"
   ]
  },
  {
   "cell_type": "code",
   "execution_count": 20,
   "metadata": {},
   "outputs": [
    {
     "data": {
      "text/html": [
       "<div>\n",
       "<style scoped>\n",
       "    .dataframe tbody tr th:only-of-type {\n",
       "        vertical-align: middle;\n",
       "    }\n",
       "\n",
       "    .dataframe tbody tr th {\n",
       "        vertical-align: top;\n",
       "    }\n",
       "\n",
       "    .dataframe thead th {\n",
       "        text-align: right;\n",
       "    }\n",
       "</style>\n",
       "<table border=\"1\" class=\"dataframe\">\n",
       "  <thead>\n",
       "    <tr style=\"text-align: right;\">\n",
       "      <th></th>\n",
       "      <th>Pclass</th>\n",
       "      <th>Sex</th>\n",
       "      <th>SibSp</th>\n",
       "      <th>Parch</th>\n",
       "      <th>Fare</th>\n",
       "      <th>Age</th>\n",
       "      <th>Boarded</th>\n",
       "    </tr>\n",
       "  </thead>\n",
       "  <tbody>\n",
       "    <tr>\n",
       "      <th>0</th>\n",
       "      <td>3</td>\n",
       "      <td>male</td>\n",
       "      <td>1</td>\n",
       "      <td>0</td>\n",
       "      <td>7.2500</td>\n",
       "      <td>22</td>\n",
       "      <td>Southampton</td>\n",
       "    </tr>\n",
       "    <tr>\n",
       "      <th>1</th>\n",
       "      <td>1</td>\n",
       "      <td>female</td>\n",
       "      <td>1</td>\n",
       "      <td>0</td>\n",
       "      <td>71.2833</td>\n",
       "      <td>35</td>\n",
       "      <td>Cherbourg</td>\n",
       "    </tr>\n",
       "    <tr>\n",
       "      <th>2</th>\n",
       "      <td>3</td>\n",
       "      <td>female</td>\n",
       "      <td>0</td>\n",
       "      <td>0</td>\n",
       "      <td>7.9250</td>\n",
       "      <td>26</td>\n",
       "      <td>Southampton</td>\n",
       "    </tr>\n",
       "    <tr>\n",
       "      <th>3</th>\n",
       "      <td>1</td>\n",
       "      <td>female</td>\n",
       "      <td>1</td>\n",
       "      <td>0</td>\n",
       "      <td>53.1000</td>\n",
       "      <td>35</td>\n",
       "      <td>Southampton</td>\n",
       "    </tr>\n",
       "    <tr>\n",
       "      <th>4</th>\n",
       "      <td>3</td>\n",
       "      <td>male</td>\n",
       "      <td>0</td>\n",
       "      <td>0</td>\n",
       "      <td>8.0500</td>\n",
       "      <td>35</td>\n",
       "      <td>Southampton</td>\n",
       "    </tr>\n",
       "  </tbody>\n",
       "</table>\n",
       "</div>"
      ],
      "text/plain": [
       "   Pclass     Sex  SibSp  Parch     Fare  Age      Boarded\n",
       "0       3    male      1      0   7.2500   22  Southampton\n",
       "1       1  female      1      0  71.2833   35    Cherbourg\n",
       "2       3  female      0      0   7.9250   26  Southampton\n",
       "3       1  female      1      0  53.1000   35  Southampton\n",
       "4       3    male      0      0   8.0500   35  Southampton"
      ]
     },
     "execution_count": 20,
     "metadata": {},
     "output_type": "execute_result"
    }
   ],
   "source": [
    "X.head()"
   ]
  },
  {
   "cell_type": "markdown",
   "metadata": {},
   "source": [
    "Notice that **Sex** and **Boarded** columns are categorical columns, we need to transform them using dummy variables"
   ]
  },
  {
   "cell_type": "code",
   "execution_count": 21,
   "metadata": {},
   "outputs": [
    {
     "data": {
      "text/html": [
       "<div>\n",
       "<style scoped>\n",
       "    .dataframe tbody tr th:only-of-type {\n",
       "        vertical-align: middle;\n",
       "    }\n",
       "\n",
       "    .dataframe tbody tr th {\n",
       "        vertical-align: top;\n",
       "    }\n",
       "\n",
       "    .dataframe thead th {\n",
       "        text-align: right;\n",
       "    }\n",
       "</style>\n",
       "<table border=\"1\" class=\"dataframe\">\n",
       "  <thead>\n",
       "    <tr style=\"text-align: right;\">\n",
       "      <th></th>\n",
       "      <th>Pclass</th>\n",
       "      <th>SibSp</th>\n",
       "      <th>Parch</th>\n",
       "      <th>Fare</th>\n",
       "      <th>Age</th>\n",
       "      <th>Sex_male</th>\n",
       "      <th>Boarded_Cherbourg</th>\n",
       "      <th>Boarded_Queenstown</th>\n",
       "      <th>Boarded_Southampton</th>\n",
       "    </tr>\n",
       "  </thead>\n",
       "  <tbody>\n",
       "    <tr>\n",
       "      <th>0</th>\n",
       "      <td>3</td>\n",
       "      <td>1</td>\n",
       "      <td>0</td>\n",
       "      <td>7.2500</td>\n",
       "      <td>22</td>\n",
       "      <td>1</td>\n",
       "      <td>0</td>\n",
       "      <td>0</td>\n",
       "      <td>1</td>\n",
       "    </tr>\n",
       "    <tr>\n",
       "      <th>1</th>\n",
       "      <td>1</td>\n",
       "      <td>1</td>\n",
       "      <td>0</td>\n",
       "      <td>71.2833</td>\n",
       "      <td>35</td>\n",
       "      <td>0</td>\n",
       "      <td>1</td>\n",
       "      <td>0</td>\n",
       "      <td>0</td>\n",
       "    </tr>\n",
       "    <tr>\n",
       "      <th>2</th>\n",
       "      <td>3</td>\n",
       "      <td>0</td>\n",
       "      <td>0</td>\n",
       "      <td>7.9250</td>\n",
       "      <td>26</td>\n",
       "      <td>0</td>\n",
       "      <td>0</td>\n",
       "      <td>0</td>\n",
       "      <td>1</td>\n",
       "    </tr>\n",
       "    <tr>\n",
       "      <th>3</th>\n",
       "      <td>1</td>\n",
       "      <td>1</td>\n",
       "      <td>0</td>\n",
       "      <td>53.1000</td>\n",
       "      <td>35</td>\n",
       "      <td>0</td>\n",
       "      <td>0</td>\n",
       "      <td>0</td>\n",
       "      <td>1</td>\n",
       "    </tr>\n",
       "    <tr>\n",
       "      <th>4</th>\n",
       "      <td>3</td>\n",
       "      <td>0</td>\n",
       "      <td>0</td>\n",
       "      <td>8.0500</td>\n",
       "      <td>35</td>\n",
       "      <td>1</td>\n",
       "      <td>0</td>\n",
       "      <td>0</td>\n",
       "      <td>1</td>\n",
       "    </tr>\n",
       "  </tbody>\n",
       "</table>\n",
       "</div>"
      ],
      "text/plain": [
       "   Pclass  SibSp  Parch     Fare  Age  Sex_male  Boarded_Cherbourg  \\\n",
       "0       3      1      0   7.2500   22         1                  0   \n",
       "1       1      1      0  71.2833   35         0                  1   \n",
       "2       3      0      0   7.9250   26         0                  0   \n",
       "3       1      1      0  53.1000   35         0                  0   \n",
       "4       3      0      0   8.0500   35         1                  0   \n",
       "\n",
       "   Boarded_Queenstown  Boarded_Southampton  \n",
       "0                   0                    1  \n",
       "1                   0                    0  \n",
       "2                   0                    1  \n",
       "3                   0                    1  \n",
       "4                   0                    1  "
      ]
     },
     "execution_count": 21,
     "metadata": {},
     "output_type": "execute_result"
    }
   ],
   "source": [
    "X_final = pd.get_dummies(X, columns =['Sex','Boarded'], drop_first=True)\n",
    "X_final.head()"
   ]
  },
  {
   "cell_type": "code",
   "execution_count": 22,
   "metadata": {},
   "outputs": [],
   "source": [
    "X_train, X_test, y_train, y_test = train_test_split(X_final, y, test_size=0.33, random_state=30)"
   ]
  },
  {
   "cell_type": "markdown",
   "metadata": {},
   "source": [
    "## KNN  Classifier"
   ]
  },
  {
   "cell_type": "code",
   "execution_count": 23,
   "metadata": {},
   "outputs": [],
   "source": [
    "from sklearn.neighbors import KNeighborsClassifier"
   ]
  },
  {
   "cell_type": "markdown",
   "metadata": {},
   "source": [
    "#### Choosing K value"
   ]
  },
  {
   "cell_type": "code",
   "execution_count": 24,
   "metadata": {},
   "outputs": [],
   "source": [
    "error_rate = []\n",
    "for i in range(1,50):\n",
    "    knn = KNeighborsClassifier(n_neighbors=i)\n",
    "    knn.fit(X_train,y_train)\n",
    "    pred_i = knn.predict(X_test)\n",
    "    error_rate.append(np.mean(pred_i != y_test))"
   ]
  },
  {
   "cell_type": "code",
   "execution_count": 25,
   "metadata": {},
   "outputs": [
    {
     "name": "stdout",
     "output_type": "stream",
     "text": [
      "0.3123543123543124\n"
     ]
    }
   ],
   "source": [
    "print(min(error_rate))"
   ]
  },
  {
   "cell_type": "code",
   "execution_count": 26,
   "metadata": {},
   "outputs": [
    {
     "data": {
      "image/png": "[encoded data removed]",
      "text/plain": [
       "<Figure size 864x432 with 1 Axes>"
      ]
     },
     "metadata": {
      "needs_background": "light"
     },
     "output_type": "display_data"
    }
   ],
   "source": [
    "plt.figure(figsize = (12,6))\n",
    "\n",
    "plt.plot(range(1,50), error_rate,\n",
    "        color='blue',\n",
    "        ls='dashed',\n",
    "        marker='o',\n",
    "        markerfacecolor='red',\n",
    "        markersize=5)\n",
    "plt.title('Error rate Vs K value')\n",
    "plt.xlabel('K')\n",
    "plt.ylabel('Error rate');"
   ]
  },
  {
   "cell_type": "markdown",
   "metadata": {},
   "source": [
    "note 6: we have got a 31% of error rate, without scaling the variables."
   ]
  },
  {
   "cell_type": "markdown",
   "metadata": {},
   "source": [
    "#### Grid Search CV to try to boost the classifier"
   ]
  },
  {
   "cell_type": "code",
   "execution_count": 27,
   "metadata": {},
   "outputs": [],
   "source": [
    "from sklearn.model_selection import GridSearchCV"
   ]
  },
  {
   "cell_type": "code",
   "execution_count": 28,
   "metadata": {},
   "outputs": [],
   "source": [
    "param_grid ={'n_neighbors':range(1,25),'algorithm': ['auto','kd_tree','brute','ball_tree']}"
   ]
  },
  {
   "cell_type": "code",
   "execution_count": 29,
   "metadata": {},
   "outputs": [],
   "source": [
    "grid = GridSearchCV(KNeighborsClassifier(), param_grid, verbose = 3)"
   ]
  },
  {
   "cell_type": "code",
   "execution_count": 30,
   "metadata": {},
   "outputs": [
    {
     "name": "stderr",
     "output_type": "stream",
     "text": [
      "c:\\programdata\\miniconda3\\lib\\site-packages\\sklearn\\model_selection\\_split.py:1978: FutureWarning: The default value of cv will change from 3 to 5 in version 0.22. Specify it explicitly to silence this warning.\n",
      "  warnings.warn(CV_WARNING, FutureWarning)\n",
      "[Parallel(n_jobs=1)]: Using backend SequentialBackend with 1 concurrent workers.\n",
      "[Parallel(n_jobs=1)]: Done   1 out of   1 | elapsed:    0.0s remaining:    0.0s\n",
      "[Parallel(n_jobs=1)]: Done   2 out of   2 | elapsed:    0.0s remaining:    0.0s\n"
     ]
    },
    {
     "name": "stdout",
     "output_type": "stream",
     "text": [
      "Fitting 3 folds for each of 96 candidates, totalling 288 fits\n",
      "[CV] algorithm=auto, n_neighbors=1 ...................................\n",
      "[CV] ....... algorithm=auto, n_neighbors=1, score=0.629, total=   0.0s\n",
      "[CV] algorithm=auto, n_neighbors=1 ...................................\n",
      "[CV] ....... algorithm=auto, n_neighbors=1, score=0.624, total=   0.0s\n",
      "[CV] algorithm=auto, n_neighbors=1 ...................................\n",
      "[CV] ....... algorithm=auto, n_neighbors=1, score=0.619, total=   0.0s\n",
      "[CV] algorithm=auto, n_neighbors=2 ...................................\n",
      "[CV] ....... algorithm=auto, n_neighbors=2, score=0.677, total=   0.0s\n",
      "[CV] algorithm=auto, n_neighbors=2 ...................................\n",
      "[CV] ....... algorithm=auto, n_neighbors=2, score=0.679, total=   0.0s\n",
      "[CV] algorithm=auto, n_neighbors=2 ...................................\n",
      "[CV] ....... algorithm=auto, n_neighbors=2, score=0.661, total=   0.0s\n",
      "[CV] algorithm=auto, n_neighbors=3 ...................................\n",
      "[CV] ....... algorithm=auto, n_neighbors=3, score=0.625, total=   0.0s\n",
      "[CV] algorithm=auto, n_neighbors=3 ...................................\n",
      "[CV] ....... algorithm=auto, n_neighbors=3, score=0.662, total=   0.0s\n",
      "[CV] algorithm=auto, n_neighbors=3 ...................................\n",
      "[CV] ....... algorithm=auto, n_neighbors=3, score=0.689, total=   0.0s\n",
      "[CV] algorithm=auto, n_neighbors=4 ...................................\n",
      "[CV] ....... algorithm=auto, n_neighbors=4, score=0.649, total=   0.0s\n",
      "[CV] algorithm=auto, n_neighbors=4 ...................................\n",
      "[CV] ....... algorithm=auto, n_neighbors=4, score=0.669, total=   0.0s\n",
      "[CV] algorithm=auto, n_neighbors=4 ...................................\n",
      "[CV] ....... algorithm=auto, n_neighbors=4, score=0.661, total=   0.0s\n",
      "[CV] algorithm=auto, n_neighbors=5 ...................................\n",
      "[CV] ....... algorithm=auto, n_neighbors=5, score=0.649, total=   0.0s\n",
      "[CV] algorithm=auto, n_neighbors=5 ...................................\n",
      "[CV] ....... algorithm=auto, n_neighbors=5, score=0.683, total=   0.0s\n",
      "[CV] algorithm=auto, n_neighbors=5 ...................................\n",
      "[CV] ....... algorithm=auto, n_neighbors=5, score=0.654, total=   0.0s\n",
      "[CV] algorithm=auto, n_neighbors=6 ...................................\n",
      "[CV] ....... algorithm=auto, n_neighbors=6, score=0.653, total=   0.0s\n",
      "[CV] algorithm=auto, n_neighbors=6 ...................................\n",
      "[CV] ....... algorithm=auto, n_neighbors=6, score=0.645, total=   0.0s\n",
      "[CV] algorithm=auto, n_neighbors=6 ...................................\n",
      "[CV] ....... algorithm=auto, n_neighbors=6, score=0.664, total=   0.0s\n",
      "[CV] algorithm=auto, n_neighbors=7 ...................................\n",
      "[CV] ....... algorithm=auto, n_neighbors=7, score=0.667, total=   0.0s\n",
      "[CV] algorithm=auto, n_neighbors=7 ...................................\n",
      "[CV] ....... algorithm=auto, n_neighbors=7, score=0.669, total=   0.0s\n",
      "[CV] algorithm=auto, n_neighbors=7 ...................................\n",
      "[CV] ....... algorithm=auto, n_neighbors=7, score=0.671, total=   0.0s\n",
      "[CV] algorithm=auto, n_neighbors=8 ...................................\n",
      "[CV] ....... algorithm=auto, n_neighbors=8, score=0.643, total=   0.0s\n",
      "[CV] algorithm=auto, n_neighbors=8 ...................................\n",
      "[CV] ....... algorithm=auto, n_neighbors=8, score=0.683, total=   0.0s\n",
      "[CV] algorithm=auto, n_neighbors=8 ...................................\n",
      "[CV] ....... algorithm=auto, n_neighbors=8, score=0.671, total=   0.0s\n",
      "[CV] algorithm=auto, n_neighbors=9 ...................................\n",
      "[CV] ....... algorithm=auto, n_neighbors=9, score=0.667, total=   0.0s\n",
      "[CV] algorithm=auto, n_neighbors=9 ...................................\n",
      "[CV] ....... algorithm=auto, n_neighbors=9, score=0.686, total=   0.0s\n",
      "[CV] algorithm=auto, n_neighbors=9 ...................................\n",
      "[CV] ....... algorithm=auto, n_neighbors=9, score=0.668, total=   0.0s\n",
      "[CV] algorithm=auto, n_neighbors=10 ..................................\n",
      "[CV] ...... algorithm=auto, n_neighbors=10, score=0.660, total=   0.0s\n",
      "[CV] algorithm=auto, n_neighbors=10 ..................................\n",
      "[CV] ...... algorithm=auto, n_neighbors=10, score=0.686, total=   0.0s\n",
      "[CV] algorithm=auto, n_neighbors=10 ..................................\n",
      "[CV] ...... algorithm=auto, n_neighbors=10, score=0.668, total=   0.0s\n",
      "[CV] algorithm=auto, n_neighbors=11 ..................................\n",
      "[CV] ...... algorithm=auto, n_neighbors=11, score=0.660, total=   0.0s\n",
      "[CV] algorithm=auto, n_neighbors=11 ..................................\n",
      "[CV] ...... algorithm=auto, n_neighbors=11, score=0.690, total=   0.0s\n",
      "[CV] algorithm=auto, n_neighbors=11 ..................................\n",
      "[CV] ...... algorithm=auto, n_neighbors=11, score=0.675, total=   0.0s\n",
      "[CV] algorithm=auto, n_neighbors=12 ..................................\n",
      "[CV] ...... algorithm=auto, n_neighbors=12, score=0.660, total=   0.0s\n",
      "[CV] algorithm=auto, n_neighbors=12 ..................................\n",
      "[CV] ...... algorithm=auto, n_neighbors=12, score=0.679, total=   0.0s\n",
      "[CV] algorithm=auto, n_neighbors=12 ..................................\n",
      "[CV] ...... algorithm=auto, n_neighbors=12, score=0.671, total=   0.0s\n",
      "[CV] algorithm=auto, n_neighbors=13 ..................................\n",
      "[CV] ...... algorithm=auto, n_neighbors=13, score=0.646, total=   0.0s\n",
      "[CV] algorithm=auto, n_neighbors=13 ..................................\n",
      "[CV] ...... algorithm=auto, n_neighbors=13, score=0.679, total=   0.0s\n",
      "[CV] algorithm=auto, n_neighbors=13 ..................................\n",
      "[CV] ...... algorithm=auto, n_neighbors=13, score=0.671, total=   0.0s\n",
      "[CV] algorithm=auto, n_neighbors=14 ..................................\n",
      "[CV] ...... algorithm=auto, n_neighbors=14, score=0.643, total=   0.0s\n",
      "[CV] algorithm=auto, n_neighbors=14 ..................................\n",
      "[CV] ...... algorithm=auto, n_neighbors=14, score=0.676, total=   0.0s\n",
      "[CV] algorithm=auto, n_neighbors=14 ..................................\n",
      "[CV] ...... algorithm=auto, n_neighbors=14, score=0.657, total=   0.0s\n",
      "[CV] algorithm=auto, n_neighbors=15 ..................................\n",
      "[CV] ...... algorithm=auto, n_neighbors=15, score=0.656, total=   0.0s\n",
      "[CV] algorithm=auto, n_neighbors=15 ..................................\n",
      "[CV] ...... algorithm=auto, n_neighbors=15, score=0.676, total=   0.0s\n",
      "[CV] algorithm=auto, n_neighbors=15 ..................................\n",
      "[CV] ...... algorithm=auto, n_neighbors=15, score=0.664, total=   0.0s\n",
      "[CV] algorithm=auto, n_neighbors=16 ..................................\n",
      "[CV] ...... algorithm=auto, n_neighbors=16, score=0.649, total=   0.0s\n",
      "[CV] algorithm=auto, n_neighbors=16 ..................................\n",
      "[CV] ...... algorithm=auto, n_neighbors=16, score=0.683, total=   0.0s\n",
      "[CV] algorithm=auto, n_neighbors=16 ..................................\n",
      "[CV] ...... algorithm=auto, n_neighbors=16, score=0.661, total=   0.0s\n",
      "[CV] algorithm=auto, n_neighbors=17 ..................................\n",
      "[CV] ...... algorithm=auto, n_neighbors=17, score=0.653, total=   0.0s\n",
      "[CV] algorithm=auto, n_neighbors=17 ..................................\n",
      "[CV] ...... algorithm=auto, n_neighbors=17, score=0.683, total=   0.0s\n",
      "[CV] algorithm=auto, n_neighbors=17 ..................................\n",
      "[CV] ...... algorithm=auto, n_neighbors=17, score=0.651, total=   0.0s\n",
      "[CV] algorithm=auto, n_neighbors=18 ..................................\n",
      "[CV] ...... algorithm=auto, n_neighbors=18, score=0.660, total=   0.0s\n",
      "[CV] algorithm=auto, n_neighbors=18 ..................................\n",
      "[CV] ...... algorithm=auto, n_neighbors=18, score=0.676, total=   0.0s\n",
      "[CV] algorithm=auto, n_neighbors=18 ..................................\n",
      "[CV] ...... algorithm=auto, n_neighbors=18, score=0.654, total=   0.0s\n",
      "[CV] algorithm=auto, n_neighbors=19 ..................................\n",
      "[CV] ...... algorithm=auto, n_neighbors=19, score=0.653, total=   0.0s\n",
      "[CV] algorithm=auto, n_neighbors=19 ..................................\n",
      "[CV] ...... algorithm=auto, n_neighbors=19, score=0.666, total=   0.0s\n",
      "[CV] algorithm=auto, n_neighbors=19 ..................................\n",
      "[CV] ...... algorithm=auto, n_neighbors=19, score=0.657, total=   0.0s\n",
      "[CV] algorithm=auto, n_neighbors=20 ..................................\n",
      "[CV] ...... algorithm=auto, n_neighbors=20, score=0.643, total=   0.0s\n",
      "[CV] algorithm=auto, n_neighbors=20 ..................................\n",
      "[CV] ...... algorithm=auto, n_neighbors=20, score=0.669, total=   0.0s\n",
      "[CV] algorithm=auto, n_neighbors=20 ..................................\n",
      "[CV] ...... algorithm=auto, n_neighbors=20, score=0.664, total=   0.0s\n",
      "[CV] algorithm=auto, n_neighbors=21 ..................................\n"
     ]
    },
    {
     "name": "stdout",
     "output_type": "stream",
     "text": [
      "[CV] ...... algorithm=auto, n_neighbors=21, score=0.649, total=   0.0s\n",
      "[CV] algorithm=auto, n_neighbors=21 ..................................\n",
      "[CV] ...... algorithm=auto, n_neighbors=21, score=0.655, total=   0.0s\n",
      "[CV] algorithm=auto, n_neighbors=21 ..................................\n",
      "[CV] ...... algorithm=auto, n_neighbors=21, score=0.668, total=   0.0s\n",
      "[CV] algorithm=auto, n_neighbors=22 ..................................\n",
      "[CV] ...... algorithm=auto, n_neighbors=22, score=0.649, total=   0.0s\n",
      "[CV] algorithm=auto, n_neighbors=22 ..................................\n",
      "[CV] ...... algorithm=auto, n_neighbors=22, score=0.659, total=   0.0s\n",
      "[CV] algorithm=auto, n_neighbors=22 ..................................\n",
      "[CV] ...... algorithm=auto, n_neighbors=22, score=0.675, total=   0.0s\n",
      "[CV] algorithm=auto, n_neighbors=23 ..................................\n",
      "[CV] ...... algorithm=auto, n_neighbors=23, score=0.646, total=   0.0s\n",
      "[CV] algorithm=auto, n_neighbors=23 ..................................\n",
      "[CV] ...... algorithm=auto, n_neighbors=23, score=0.655, total=   0.0s\n",
      "[CV] algorithm=auto, n_neighbors=23 ..................................\n",
      "[CV] ...... algorithm=auto, n_neighbors=23, score=0.678, total=   0.0s\n",
      "[CV] algorithm=auto, n_neighbors=24 ..................................\n",
      "[CV] ...... algorithm=auto, n_neighbors=24, score=0.625, total=   0.0s\n",
      "[CV] algorithm=auto, n_neighbors=24 ..................................\n",
      "[CV] ...... algorithm=auto, n_neighbors=24, score=0.659, total=   0.0s\n",
      "[CV] algorithm=auto, n_neighbors=24 ..................................\n",
      "[CV] ...... algorithm=auto, n_neighbors=24, score=0.664, total=   0.0s\n",
      "[CV] algorithm=kd_tree, n_neighbors=1 ................................\n",
      "[CV] .... algorithm=kd_tree, n_neighbors=1, score=0.629, total=   0.0s\n",
      "[CV] algorithm=kd_tree, n_neighbors=1 ................................\n",
      "[CV] .... algorithm=kd_tree, n_neighbors=1, score=0.624, total=   0.0s\n",
      "[CV] algorithm=kd_tree, n_neighbors=1 ................................\n",
      "[CV] .... algorithm=kd_tree, n_neighbors=1, score=0.619, total=   0.0s\n",
      "[CV] algorithm=kd_tree, n_neighbors=2 ................................\n",
      "[CV] .... algorithm=kd_tree, n_neighbors=2, score=0.677, total=   0.0s\n",
      "[CV] algorithm=kd_tree, n_neighbors=2 ................................\n",
      "[CV] .... algorithm=kd_tree, n_neighbors=2, score=0.679, total=   0.0s\n",
      "[CV] algorithm=kd_tree, n_neighbors=2 ................................\n",
      "[CV] .... algorithm=kd_tree, n_neighbors=2, score=0.661, total=   0.0s\n",
      "[CV] algorithm=kd_tree, n_neighbors=3 ................................\n",
      "[CV] .... algorithm=kd_tree, n_neighbors=3, score=0.625, total=   0.0s\n",
      "[CV] algorithm=kd_tree, n_neighbors=3 ................................\n",
      "[CV] .... algorithm=kd_tree, n_neighbors=3, score=0.662, total=   0.0s\n",
      "[CV] algorithm=kd_tree, n_neighbors=3 ................................\n",
      "[CV] .... algorithm=kd_tree, n_neighbors=3, score=0.689, total=   0.0s\n",
      "[CV] algorithm=kd_tree, n_neighbors=4 ................................\n",
      "[CV] .... algorithm=kd_tree, n_neighbors=4, score=0.649, total=   0.0s\n",
      "[CV] algorithm=kd_tree, n_neighbors=4 ................................\n",
      "[CV] .... algorithm=kd_tree, n_neighbors=4, score=0.669, total=   0.0s\n",
      "[CV] algorithm=kd_tree, n_neighbors=4 ................................\n",
      "[CV] .... algorithm=kd_tree, n_neighbors=4, score=0.661, total=   0.0s\n",
      "[CV] algorithm=kd_tree, n_neighbors=5 ................................\n",
      "[CV] .... algorithm=kd_tree, n_neighbors=5, score=0.649, total=   0.0s\n",
      "[CV] algorithm=kd_tree, n_neighbors=5 ................................\n",
      "[CV] .... algorithm=kd_tree, n_neighbors=5, score=0.683, total=   0.0s\n",
      "[CV] algorithm=kd_tree, n_neighbors=5 ................................\n",
      "[CV] .... algorithm=kd_tree, n_neighbors=5, score=0.654, total=   0.0s\n",
      "[CV] algorithm=kd_tree, n_neighbors=6 ................................\n",
      "[CV] .... algorithm=kd_tree, n_neighbors=6, score=0.653, total=   0.0s\n",
      "[CV] algorithm=kd_tree, n_neighbors=6 ................................\n",
      "[CV] .... algorithm=kd_tree, n_neighbors=6, score=0.645, total=   0.0s\n",
      "[CV] algorithm=kd_tree, n_neighbors=6 ................................\n",
      "[CV] .... algorithm=kd_tree, n_neighbors=6, score=0.664, total=   0.0s\n",
      "[CV] algorithm=kd_tree, n_neighbors=7 ................................\n",
      "[CV] .... algorithm=kd_tree, n_neighbors=7, score=0.667, total=   0.0s\n",
      "[CV] algorithm=kd_tree, n_neighbors=7 ................................\n",
      "[CV] .... algorithm=kd_tree, n_neighbors=7, score=0.669, total=   0.0s\n",
      "[CV] algorithm=kd_tree, n_neighbors=7 ................................\n",
      "[CV] .... algorithm=kd_tree, n_neighbors=7, score=0.671, total=   0.0s\n",
      "[CV] algorithm=kd_tree, n_neighbors=8 ................................\n",
      "[CV] .... algorithm=kd_tree, n_neighbors=8, score=0.643, total=   0.0s\n",
      "[CV] algorithm=kd_tree, n_neighbors=8 ................................\n",
      "[CV] .... algorithm=kd_tree, n_neighbors=8, score=0.683, total=   0.0s\n",
      "[CV] algorithm=kd_tree, n_neighbors=8 ................................\n",
      "[CV] .... algorithm=kd_tree, n_neighbors=8, score=0.671, total=   0.0s\n",
      "[CV] algorithm=kd_tree, n_neighbors=9 ................................\n",
      "[CV] .... algorithm=kd_tree, n_neighbors=9, score=0.667, total=   0.0s\n",
      "[CV] algorithm=kd_tree, n_neighbors=9 ................................\n",
      "[CV] .... algorithm=kd_tree, n_neighbors=9, score=0.686, total=   0.0s\n",
      "[CV] algorithm=kd_tree, n_neighbors=9 ................................\n",
      "[CV] .... algorithm=kd_tree, n_neighbors=9, score=0.668, total=   0.0s\n",
      "[CV] algorithm=kd_tree, n_neighbors=10 ...............................\n",
      "[CV] ... algorithm=kd_tree, n_neighbors=10, score=0.660, total=   0.0s\n",
      "[CV] algorithm=kd_tree, n_neighbors=10 ...............................\n",
      "[CV] ... algorithm=kd_tree, n_neighbors=10, score=0.686, total=   0.0s\n",
      "[CV] algorithm=kd_tree, n_neighbors=10 ...............................\n",
      "[CV] ... algorithm=kd_tree, n_neighbors=10, score=0.668, total=   0.0s\n",
      "[CV] algorithm=kd_tree, n_neighbors=11 ...............................\n",
      "[CV] ... algorithm=kd_tree, n_neighbors=11, score=0.660, total=   0.0s\n",
      "[CV] algorithm=kd_tree, n_neighbors=11 ...............................\n",
      "[CV] ... algorithm=kd_tree, n_neighbors=11, score=0.690, total=   0.0s\n",
      "[CV] algorithm=kd_tree, n_neighbors=11 ...............................\n",
      "[CV] ... algorithm=kd_tree, n_neighbors=11, score=0.675, total=   0.0s\n",
      "[CV] algorithm=kd_tree, n_neighbors=12 ...............................\n",
      "[CV] ... algorithm=kd_tree, n_neighbors=12, score=0.660, total=   0.0s\n",
      "[CV] algorithm=kd_tree, n_neighbors=12 ...............................\n",
      "[CV] ... algorithm=kd_tree, n_neighbors=12, score=0.679, total=   0.0s\n",
      "[CV] algorithm=kd_tree, n_neighbors=12 ...............................\n",
      "[CV] ... algorithm=kd_tree, n_neighbors=12, score=0.671, total=   0.0s\n",
      "[CV] algorithm=kd_tree, n_neighbors=13 ...............................\n",
      "[CV] ... algorithm=kd_tree, n_neighbors=13, score=0.646, total=   0.0s\n",
      "[CV] algorithm=kd_tree, n_neighbors=13 ...............................\n",
      "[CV] ... algorithm=kd_tree, n_neighbors=13, score=0.679, total=   0.0s\n",
      "[CV] algorithm=kd_tree, n_neighbors=13 ...............................\n",
      "[CV] ... algorithm=kd_tree, n_neighbors=13, score=0.671, total=   0.0s\n",
      "[CV] algorithm=kd_tree, n_neighbors=14 ...............................\n",
      "[CV] ... algorithm=kd_tree, n_neighbors=14, score=0.643, total=   0.0s\n",
      "[CV] algorithm=kd_tree, n_neighbors=14 ...............................\n",
      "[CV] ... algorithm=kd_tree, n_neighbors=14, score=0.676, total=   0.0s\n",
      "[CV] algorithm=kd_tree, n_neighbors=14 ...............................\n",
      "[CV] ... algorithm=kd_tree, n_neighbors=14, score=0.657, total=   0.0s\n",
      "[CV] algorithm=kd_tree, n_neighbors=15 ...............................\n",
      "[CV] ... algorithm=kd_tree, n_neighbors=15, score=0.656, total=   0.0s\n",
      "[CV] algorithm=kd_tree, n_neighbors=15 ...............................\n",
      "[CV] ... algorithm=kd_tree, n_neighbors=15, score=0.676, total=   0.0s\n",
      "[CV] algorithm=kd_tree, n_neighbors=15 ...............................\n",
      "[CV] ... algorithm=kd_tree, n_neighbors=15, score=0.664, total=   0.0s\n",
      "[CV] algorithm=kd_tree, n_neighbors=16 ...............................\n",
      "[CV] ... algorithm=kd_tree, n_neighbors=16, score=0.649, total=   0.0s\n",
      "[CV] algorithm=kd_tree, n_neighbors=16 ...............................\n",
      "[CV] ... algorithm=kd_tree, n_neighbors=16, score=0.683, total=   0.0s\n"
     ]
    },
    {
     "name": "stdout",
     "output_type": "stream",
     "text": [
      "[CV] algorithm=kd_tree, n_neighbors=16 ...............................\n",
      "[CV] ... algorithm=kd_tree, n_neighbors=16, score=0.661, total=   0.0s\n",
      "[CV] algorithm=kd_tree, n_neighbors=17 ...............................\n",
      "[CV] ... algorithm=kd_tree, n_neighbors=17, score=0.653, total=   0.0s\n",
      "[CV] algorithm=kd_tree, n_neighbors=17 ...............................\n",
      "[CV] ... algorithm=kd_tree, n_neighbors=17, score=0.683, total=   0.0s\n",
      "[CV] algorithm=kd_tree, n_neighbors=17 ...............................\n",
      "[CV] ... algorithm=kd_tree, n_neighbors=17, score=0.651, total=   0.0s\n",
      "[CV] algorithm=kd_tree, n_neighbors=18 ...............................\n",
      "[CV] ... algorithm=kd_tree, n_neighbors=18, score=0.660, total=   0.0s\n",
      "[CV] algorithm=kd_tree, n_neighbors=18 ...............................\n",
      "[CV] ... algorithm=kd_tree, n_neighbors=18, score=0.676, total=   0.0s\n",
      "[CV] algorithm=kd_tree, n_neighbors=18 ...............................\n",
      "[CV] ... algorithm=kd_tree, n_neighbors=18, score=0.654, total=   0.0s\n",
      "[CV] algorithm=kd_tree, n_neighbors=19 ...............................\n",
      "[CV] ... algorithm=kd_tree, n_neighbors=19, score=0.653, total=   0.0s\n",
      "[CV] algorithm=kd_tree, n_neighbors=19 ...............................\n",
      "[CV] ... algorithm=kd_tree, n_neighbors=19, score=0.666, total=   0.0s\n",
      "[CV] algorithm=kd_tree, n_neighbors=19 ...............................\n",
      "[CV] ... algorithm=kd_tree, n_neighbors=19, score=0.657, total=   0.0s\n",
      "[CV] algorithm=kd_tree, n_neighbors=20 ...............................\n",
      "[CV] ... algorithm=kd_tree, n_neighbors=20, score=0.643, total=   0.0s\n",
      "[CV] algorithm=kd_tree, n_neighbors=20 ...............................\n",
      "[CV] ... algorithm=kd_tree, n_neighbors=20, score=0.669, total=   0.0s\n",
      "[CV] algorithm=kd_tree, n_neighbors=20 ...............................\n",
      "[CV] ... algorithm=kd_tree, n_neighbors=20, score=0.664, total=   0.0s\n",
      "[CV] algorithm=kd_tree, n_neighbors=21 ...............................\n",
      "[CV] ... algorithm=kd_tree, n_neighbors=21, score=0.649, total=   0.0s\n",
      "[CV] algorithm=kd_tree, n_neighbors=21 ...............................\n",
      "[CV] ... algorithm=kd_tree, n_neighbors=21, score=0.655, total=   0.0s\n",
      "[CV] algorithm=kd_tree, n_neighbors=21 ...............................\n",
      "[CV] ... algorithm=kd_tree, n_neighbors=21, score=0.668, total=   0.0s\n",
      "[CV] algorithm=kd_tree, n_neighbors=22 ...............................\n",
      "[CV] ... algorithm=kd_tree, n_neighbors=22, score=0.649, total=   0.0s\n",
      "[CV] algorithm=kd_tree, n_neighbors=22 ...............................\n",
      "[CV] ... algorithm=kd_tree, n_neighbors=22, score=0.659, total=   0.0s\n",
      "[CV] algorithm=kd_tree, n_neighbors=22 ...............................\n",
      "[CV] ... algorithm=kd_tree, n_neighbors=22, score=0.675, total=   0.0s\n",
      "[CV] algorithm=kd_tree, n_neighbors=23 ...............................\n",
      "[CV] ... algorithm=kd_tree, n_neighbors=23, score=0.646, total=   0.0s\n",
      "[CV] algorithm=kd_tree, n_neighbors=23 ...............................\n",
      "[CV] ... algorithm=kd_tree, n_neighbors=23, score=0.655, total=   0.0s\n",
      "[CV] algorithm=kd_tree, n_neighbors=23 ...............................\n",
      "[CV] ... algorithm=kd_tree, n_neighbors=23, score=0.678, total=   0.0s\n",
      "[CV] algorithm=kd_tree, n_neighbors=24 ...............................\n",
      "[CV] ... algorithm=kd_tree, n_neighbors=24, score=0.625, total=   0.0s\n",
      "[CV] algorithm=kd_tree, n_neighbors=24 ...............................\n",
      "[CV] ... algorithm=kd_tree, n_neighbors=24, score=0.659, total=   0.0s\n",
      "[CV] algorithm=kd_tree, n_neighbors=24 ...............................\n",
      "[CV] ... algorithm=kd_tree, n_neighbors=24, score=0.664, total=   0.0s\n",
      "[CV] algorithm=brute, n_neighbors=1 ..................................\n",
      "[CV] ...... algorithm=brute, n_neighbors=1, score=0.632, total=   0.0s\n",
      "[CV] algorithm=brute, n_neighbors=1 ..................................\n",
      "[CV] ...... algorithm=brute, n_neighbors=1, score=0.621, total=   0.0s\n",
      "[CV] algorithm=brute, n_neighbors=1 ..................................\n",
      "[CV] ...... algorithm=brute, n_neighbors=1, score=0.612, total=   0.0s\n",
      "[CV] algorithm=brute, n_neighbors=2 ..................................\n",
      "[CV] ...... algorithm=brute, n_neighbors=2, score=0.674, total=   0.0s\n",
      "[CV] algorithm=brute, n_neighbors=2 ..................................\n",
      "[CV] ...... algorithm=brute, n_neighbors=2, score=0.676, total=   0.0s\n",
      "[CV] algorithm=brute, n_neighbors=2 ..................................\n",
      "[CV] ...... algorithm=brute, n_neighbors=2, score=0.654, total=   0.0s\n",
      "[CV] algorithm=brute, n_neighbors=3 ..................................\n",
      "[CV] ...... algorithm=brute, n_neighbors=3, score=0.629, total=   0.0s\n",
      "[CV] algorithm=brute, n_neighbors=3 ..................................\n",
      "[CV] ...... algorithm=brute, n_neighbors=3, score=0.662, total=   0.0s\n",
      "[CV] algorithm=brute, n_neighbors=3 ..................................\n",
      "[CV] ...... algorithm=brute, n_neighbors=3, score=0.689, total=   0.0s\n",
      "[CV] algorithm=brute, n_neighbors=4 ..................................\n",
      "[CV] ...... algorithm=brute, n_neighbors=4, score=0.653, total=   0.0s\n",
      "[CV] algorithm=brute, n_neighbors=4 ..................................\n",
      "[CV] ...... algorithm=brute, n_neighbors=4, score=0.669, total=   0.0s\n",
      "[CV] algorithm=brute, n_neighbors=4 ..................................\n",
      "[CV] ...... algorithm=brute, n_neighbors=4, score=0.661, total=   0.0s\n",
      "[CV] algorithm=brute, n_neighbors=5 ..................................\n",
      "[CV] ...... algorithm=brute, n_neighbors=5, score=0.649, total=   0.0s\n",
      "[CV] algorithm=brute, n_neighbors=5 ..................................\n",
      "[CV] ...... algorithm=brute, n_neighbors=5, score=0.683, total=   0.0s\n",
      "[CV] algorithm=brute, n_neighbors=5 ..................................\n",
      "[CV] ...... algorithm=brute, n_neighbors=5, score=0.661, total=   0.0s\n",
      "[CV] algorithm=brute, n_neighbors=6 ..................................\n",
      "[CV] ...... algorithm=brute, n_neighbors=6, score=0.656, total=   0.0s\n",
      "[CV] algorithm=brute, n_neighbors=6 ..................................\n",
      "[CV] ...... algorithm=brute, n_neighbors=6, score=0.645, total=   0.0s\n",
      "[CV] algorithm=brute, n_neighbors=6 ..................................\n",
      "[CV] ...... algorithm=brute, n_neighbors=6, score=0.664, total=   0.0s\n",
      "[CV] algorithm=brute, n_neighbors=7 ..................................\n",
      "[CV] ...... algorithm=brute, n_neighbors=7, score=0.667, total=   0.0s\n",
      "[CV] algorithm=brute, n_neighbors=7 ..................................\n",
      "[CV] ...... algorithm=brute, n_neighbors=7, score=0.669, total=   0.0s\n",
      "[CV] algorithm=brute, n_neighbors=7 ..................................\n",
      "[CV] ...... algorithm=brute, n_neighbors=7, score=0.671, total=   0.0s\n",
      "[CV] algorithm=brute, n_neighbors=8 ..................................\n",
      "[CV] ...... algorithm=brute, n_neighbors=8, score=0.643, total=   0.0s\n",
      "[CV] algorithm=brute, n_neighbors=8 ..................................\n",
      "[CV] ...... algorithm=brute, n_neighbors=8, score=0.683, total=   0.0s\n",
      "[CV] algorithm=brute, n_neighbors=8 ..................................\n",
      "[CV] ...... algorithm=brute, n_neighbors=8, score=0.671, total=   0.0s\n",
      "[CV] algorithm=brute, n_neighbors=9 ..................................\n",
      "[CV] ...... algorithm=brute, n_neighbors=9, score=0.667, total=   0.0s\n",
      "[CV] algorithm=brute, n_neighbors=9 ..................................\n",
      "[CV] ...... algorithm=brute, n_neighbors=9, score=0.686, total=   0.0s\n",
      "[CV] algorithm=brute, n_neighbors=9 ..................................\n",
      "[CV] ...... algorithm=brute, n_neighbors=9, score=0.668, total=   0.0s\n",
      "[CV] algorithm=brute, n_neighbors=10 .................................\n",
      "[CV] ..... algorithm=brute, n_neighbors=10, score=0.660, total=   0.0s\n",
      "[CV] algorithm=brute, n_neighbors=10 .................................\n",
      "[CV] ..... algorithm=brute, n_neighbors=10, score=0.690, total=   0.0s\n",
      "[CV] algorithm=brute, n_neighbors=10 .................................\n",
      "[CV] ..... algorithm=brute, n_neighbors=10, score=0.668, total=   0.0s\n",
      "[CV] algorithm=brute, n_neighbors=11 .................................\n",
      "[CV] ..... algorithm=brute, n_neighbors=11, score=0.660, total=   0.0s\n",
      "[CV] algorithm=brute, n_neighbors=11 .................................\n",
      "[CV] ..... algorithm=brute, n_neighbors=11, score=0.690, total=   0.0s\n",
      "[CV] algorithm=brute, n_neighbors=11 .................................\n",
      "[CV] ..... algorithm=brute, n_neighbors=11, score=0.675, total=   0.0s\n",
      "[CV] algorithm=brute, n_neighbors=12 .................................\n",
      "[CV] ..... algorithm=brute, n_neighbors=12, score=0.660, total=   0.0s\n",
      "[CV] algorithm=brute, n_neighbors=12 .................................\n",
      "[CV] ..... algorithm=brute, n_neighbors=12, score=0.683, total=   0.0s\n",
      "[CV] algorithm=brute, n_neighbors=12 .................................\n",
      "[CV] ..... algorithm=brute, n_neighbors=12, score=0.671, total=   0.0s\n",
      "[CV] algorithm=brute, n_neighbors=13 .................................\n",
      "[CV] ..... algorithm=brute, n_neighbors=13, score=0.646, total=   0.0s\n",
      "[CV] algorithm=brute, n_neighbors=13 .................................\n",
      "[CV] ..... algorithm=brute, n_neighbors=13, score=0.676, total=   0.0s\n",
      "[CV] algorithm=brute, n_neighbors=13 .................................\n",
      "[CV] ..... algorithm=brute, n_neighbors=13, score=0.671, total=   0.0s\n",
      "[CV] algorithm=brute, n_neighbors=14 .................................\n",
      "[CV] ..... algorithm=brute, n_neighbors=14, score=0.643, total=   0.0s\n",
      "[CV] algorithm=brute, n_neighbors=14 .................................\n",
      "[CV] ..... algorithm=brute, n_neighbors=14, score=0.676, total=   0.0s\n",
      "[CV] algorithm=brute, n_neighbors=14 .................................\n"
     ]
    },
    {
     "name": "stdout",
     "output_type": "stream",
     "text": [
      "[CV] ..... algorithm=brute, n_neighbors=14, score=0.657, total=   0.0s\n",
      "[CV] algorithm=brute, n_neighbors=15 .................................\n",
      "[CV] ..... algorithm=brute, n_neighbors=15, score=0.656, total=   0.0s\n",
      "[CV] algorithm=brute, n_neighbors=15 .................................\n",
      "[CV] ..... algorithm=brute, n_neighbors=15, score=0.676, total=   0.0s\n",
      "[CV] algorithm=brute, n_neighbors=15 .................................\n",
      "[CV] ..... algorithm=brute, n_neighbors=15, score=0.664, total=   0.0s\n",
      "[CV] algorithm=brute, n_neighbors=16 .................................\n",
      "[CV] ..... algorithm=brute, n_neighbors=16, score=0.646, total=   0.0s\n",
      "[CV] algorithm=brute, n_neighbors=16 .................................\n",
      "[CV] ..... algorithm=brute, n_neighbors=16, score=0.683, total=   0.0s\n",
      "[CV] algorithm=brute, n_neighbors=16 .................................\n",
      "[CV] ..... algorithm=brute, n_neighbors=16, score=0.661, total=   0.0s\n",
      "[CV] algorithm=brute, n_neighbors=17 .................................\n",
      "[CV] ..... algorithm=brute, n_neighbors=17, score=0.653, total=   0.0s\n",
      "[CV] algorithm=brute, n_neighbors=17 .................................\n",
      "[CV] ..... algorithm=brute, n_neighbors=17, score=0.683, total=   0.0s\n",
      "[CV] algorithm=brute, n_neighbors=17 .................................\n",
      "[CV] ..... algorithm=brute, n_neighbors=17, score=0.647, total=   0.0s\n",
      "[CV] algorithm=brute, n_neighbors=18 .................................\n",
      "[CV] ..... algorithm=brute, n_neighbors=18, score=0.660, total=   0.0s\n",
      "[CV] algorithm=brute, n_neighbors=18 .................................\n",
      "[CV] ..... algorithm=brute, n_neighbors=18, score=0.676, total=   0.0s\n",
      "[CV] algorithm=brute, n_neighbors=18 .................................\n",
      "[CV] ..... algorithm=brute, n_neighbors=18, score=0.654, total=   0.0s\n",
      "[CV] algorithm=brute, n_neighbors=19 .................................\n",
      "[CV] ..... algorithm=brute, n_neighbors=19, score=0.653, total=   0.0s\n",
      "[CV] algorithm=brute, n_neighbors=19 .................................\n",
      "[CV] ..... algorithm=brute, n_neighbors=19, score=0.666, total=   0.0s\n",
      "[CV] algorithm=brute, n_neighbors=19 .................................\n",
      "[CV] ..... algorithm=brute, n_neighbors=19, score=0.657, total=   0.0s\n",
      "[CV] algorithm=brute, n_neighbors=20 .................................\n",
      "[CV] ..... algorithm=brute, n_neighbors=20, score=0.643, total=   0.0s\n",
      "[CV] algorithm=brute, n_neighbors=20 .................................\n",
      "[CV] ..... algorithm=brute, n_neighbors=20, score=0.669, total=   0.0s\n",
      "[CV] algorithm=brute, n_neighbors=20 .................................\n",
      "[CV] ..... algorithm=brute, n_neighbors=20, score=0.668, total=   0.0s\n",
      "[CV] algorithm=brute, n_neighbors=21 .................................\n",
      "[CV] ..... algorithm=brute, n_neighbors=21, score=0.653, total=   0.0s\n",
      "[CV] algorithm=brute, n_neighbors=21 .................................\n",
      "[CV] ..... algorithm=brute, n_neighbors=21, score=0.655, total=   0.0s\n",
      "[CV] algorithm=brute, n_neighbors=21 .................................\n",
      "[CV] ..... algorithm=brute, n_neighbors=21, score=0.668, total=   0.0s\n",
      "[CV] algorithm=brute, n_neighbors=22 .................................\n",
      "[CV] ..... algorithm=brute, n_neighbors=22, score=0.649, total=   0.0s\n",
      "[CV] algorithm=brute, n_neighbors=22 .................................\n",
      "[CV] ..... algorithm=brute, n_neighbors=22, score=0.659, total=   0.0s\n",
      "[CV] algorithm=brute, n_neighbors=22 .................................\n",
      "[CV] ..... algorithm=brute, n_neighbors=22, score=0.675, total=   0.0s\n",
      "[CV] algorithm=brute, n_neighbors=23 .................................\n",
      "[CV] ..... algorithm=brute, n_neighbors=23, score=0.646, total=   0.0s\n",
      "[CV] algorithm=brute, n_neighbors=23 .................................\n",
      "[CV] ..... algorithm=brute, n_neighbors=23, score=0.655, total=   0.0s\n",
      "[CV] algorithm=brute, n_neighbors=23 .................................\n",
      "[CV] ..... algorithm=brute, n_neighbors=23, score=0.678, total=   0.0s\n",
      "[CV] algorithm=brute, n_neighbors=24 .................................\n",
      "[CV] ..... algorithm=brute, n_neighbors=24, score=0.625, total=   0.0s\n",
      "[CV] algorithm=brute, n_neighbors=24 .................................\n",
      "[CV] ..... algorithm=brute, n_neighbors=24, score=0.659, total=   0.0s\n",
      "[CV] algorithm=brute, n_neighbors=24 .................................\n",
      "[CV] ..... algorithm=brute, n_neighbors=24, score=0.664, total=   0.0s\n",
      "[CV] algorithm=ball_tree, n_neighbors=1 ..............................\n",
      "[CV] .. algorithm=ball_tree, n_neighbors=1, score=0.632, total=   0.0s\n",
      "[CV] algorithm=ball_tree, n_neighbors=1 ..............................\n",
      "[CV] .. algorithm=ball_tree, n_neighbors=1, score=0.624, total=   0.0s\n",
      "[CV] algorithm=ball_tree, n_neighbors=1 ..............................\n",
      "[CV] .. algorithm=ball_tree, n_neighbors=1, score=0.619, total=   0.0s\n",
      "[CV] algorithm=ball_tree, n_neighbors=2 ..............................\n",
      "[CV] .. algorithm=ball_tree, n_neighbors=2, score=0.677, total=   0.0s\n",
      "[CV] algorithm=ball_tree, n_neighbors=2 ..............................\n",
      "[CV] .. algorithm=ball_tree, n_neighbors=2, score=0.679, total=   0.0s\n",
      "[CV] algorithm=ball_tree, n_neighbors=2 ..............................\n",
      "[CV] .. algorithm=ball_tree, n_neighbors=2, score=0.661, total=   0.0s\n",
      "[CV] algorithm=ball_tree, n_neighbors=3 ..............................\n",
      "[CV] .. algorithm=ball_tree, n_neighbors=3, score=0.625, total=   0.0s\n",
      "[CV] algorithm=ball_tree, n_neighbors=3 ..............................\n",
      "[CV] .. algorithm=ball_tree, n_neighbors=3, score=0.669, total=   0.0s\n",
      "[CV] algorithm=ball_tree, n_neighbors=3 ..............................\n",
      "[CV] .. algorithm=ball_tree, n_neighbors=3, score=0.689, total=   0.0s\n",
      "[CV] algorithm=ball_tree, n_neighbors=4 ..............................\n",
      "[CV] .. algorithm=ball_tree, n_neighbors=4, score=0.649, total=   0.0s\n",
      "[CV] algorithm=ball_tree, n_neighbors=4 ..............................\n",
      "[CV] .. algorithm=ball_tree, n_neighbors=4, score=0.669, total=   0.0s\n",
      "[CV] algorithm=ball_tree, n_neighbors=4 ..............................\n",
      "[CV] .. algorithm=ball_tree, n_neighbors=4, score=0.661, total=   0.0s\n",
      "[CV] algorithm=ball_tree, n_neighbors=5 ..............................\n",
      "[CV] .. algorithm=ball_tree, n_neighbors=5, score=0.649, total=   0.0s\n",
      "[CV] algorithm=ball_tree, n_neighbors=5 ..............................\n",
      "[CV] .. algorithm=ball_tree, n_neighbors=5, score=0.679, total=   0.0s\n",
      "[CV] algorithm=ball_tree, n_neighbors=5 ..............................\n",
      "[CV] .. algorithm=ball_tree, n_neighbors=5, score=0.661, total=   0.0s\n",
      "[CV] algorithm=ball_tree, n_neighbors=6 ..............................\n",
      "[CV] .. algorithm=ball_tree, n_neighbors=6, score=0.663, total=   0.0s\n",
      "[CV] algorithm=ball_tree, n_neighbors=6 ..............................\n",
      "[CV] .. algorithm=ball_tree, n_neighbors=6, score=0.645, total=   0.0s\n",
      "[CV] algorithm=ball_tree, n_neighbors=6 ..............................\n",
      "[CV] .. algorithm=ball_tree, n_neighbors=6, score=0.668, total=   0.0s\n",
      "[CV] algorithm=ball_tree, n_neighbors=7 ..............................\n",
      "[CV] .. algorithm=ball_tree, n_neighbors=7, score=0.670, total=   0.0s\n",
      "[CV] algorithm=ball_tree, n_neighbors=7 ..............................\n",
      "[CV] .. algorithm=ball_tree, n_neighbors=7, score=0.669, total=   0.0s\n",
      "[CV] algorithm=ball_tree, n_neighbors=7 ..............................\n",
      "[CV] .. algorithm=ball_tree, n_neighbors=7, score=0.671, total=   0.0s\n",
      "[CV] algorithm=ball_tree, n_neighbors=8 ..............................\n",
      "[CV] .. algorithm=ball_tree, n_neighbors=8, score=0.643, total=   0.0s\n",
      "[CV] algorithm=ball_tree, n_neighbors=8 ..............................\n",
      "[CV] .. algorithm=ball_tree, n_neighbors=8, score=0.683, total=   0.0s\n",
      "[CV] algorithm=ball_tree, n_neighbors=8 ..............................\n",
      "[CV] .. algorithm=ball_tree, n_neighbors=8, score=0.671, total=   0.0s\n",
      "[CV] algorithm=ball_tree, n_neighbors=9 ..............................\n",
      "[CV] .. algorithm=ball_tree, n_neighbors=9, score=0.667, total=   0.0s\n",
      "[CV] algorithm=ball_tree, n_neighbors=9 ..............................\n",
      "[CV] .. algorithm=ball_tree, n_neighbors=9, score=0.686, total=   0.0s\n",
      "[CV] algorithm=ball_tree, n_neighbors=9 ..............................\n",
      "[CV] .. algorithm=ball_tree, n_neighbors=9, score=0.668, total=   0.0s\n",
      "[CV] algorithm=ball_tree, n_neighbors=10 .............................\n",
      "[CV] . algorithm=ball_tree, n_neighbors=10, score=0.663, total=   0.0s\n",
      "[CV] algorithm=ball_tree, n_neighbors=10 .............................\n",
      "[CV] . algorithm=ball_tree, n_neighbors=10, score=0.686, total=   0.0s\n",
      "[CV] algorithm=ball_tree, n_neighbors=10 .............................\n",
      "[CV] . algorithm=ball_tree, n_neighbors=10, score=0.668, total=   0.0s\n",
      "[CV] algorithm=ball_tree, n_neighbors=11 .............................\n",
      "[CV] . algorithm=ball_tree, n_neighbors=11, score=0.660, total=   0.0s\n",
      "[CV] algorithm=ball_tree, n_neighbors=11 .............................\n",
      "[CV] . algorithm=ball_tree, n_neighbors=11, score=0.690, total=   0.0s\n",
      "[CV] algorithm=ball_tree, n_neighbors=11 .............................\n",
      "[CV] . algorithm=ball_tree, n_neighbors=11, score=0.675, total=   0.0s\n",
      "[CV] algorithm=ball_tree, n_neighbors=12 .............................\n",
      "[CV] . algorithm=ball_tree, n_neighbors=12, score=0.660, total=   0.0s\n",
      "[CV] algorithm=ball_tree, n_neighbors=12 .............................\n",
      "[CV] . algorithm=ball_tree, n_neighbors=12, score=0.679, total=   0.0s\n",
      "[CV] algorithm=ball_tree, n_neighbors=12 .............................\n",
      "[CV] . algorithm=ball_tree, n_neighbors=12, score=0.671, total=   0.0s\n",
      "[CV] algorithm=ball_tree, n_neighbors=13 .............................\n",
      "[CV] . algorithm=ball_tree, n_neighbors=13, score=0.646, total=   0.0s\n",
      "[CV] algorithm=ball_tree, n_neighbors=13 .............................\n"
     ]
    },
    {
     "name": "stdout",
     "output_type": "stream",
     "text": [
      "[CV] . algorithm=ball_tree, n_neighbors=13, score=0.679, total=   0.0s\n",
      "[CV] algorithm=ball_tree, n_neighbors=13 .............................\n",
      "[CV] . algorithm=ball_tree, n_neighbors=13, score=0.671, total=   0.0s\n",
      "[CV] algorithm=ball_tree, n_neighbors=14 .............................\n",
      "[CV] . algorithm=ball_tree, n_neighbors=14, score=0.643, total=   0.0s\n",
      "[CV] algorithm=ball_tree, n_neighbors=14 .............................\n",
      "[CV] . algorithm=ball_tree, n_neighbors=14, score=0.676, total=   0.0s\n",
      "[CV] algorithm=ball_tree, n_neighbors=14 .............................\n",
      "[CV] . algorithm=ball_tree, n_neighbors=14, score=0.657, total=   0.0s\n",
      "[CV] algorithm=ball_tree, n_neighbors=15 .............................\n",
      "[CV] . algorithm=ball_tree, n_neighbors=15, score=0.656, total=   0.0s\n",
      "[CV] algorithm=ball_tree, n_neighbors=15 .............................\n",
      "[CV] . algorithm=ball_tree, n_neighbors=15, score=0.676, total=   0.0s\n",
      "[CV] algorithm=ball_tree, n_neighbors=15 .............................\n",
      "[CV] . algorithm=ball_tree, n_neighbors=15, score=0.664, total=   0.0s\n",
      "[CV] algorithm=ball_tree, n_neighbors=16 .............................\n",
      "[CV] . algorithm=ball_tree, n_neighbors=16, score=0.646, total=   0.0s\n",
      "[CV] algorithm=ball_tree, n_neighbors=16 .............................\n",
      "[CV] . algorithm=ball_tree, n_neighbors=16, score=0.683, total=   0.0s\n",
      "[CV] algorithm=ball_tree, n_neighbors=16 .............................\n",
      "[CV] . algorithm=ball_tree, n_neighbors=16, score=0.661, total=   0.0s\n",
      "[CV] algorithm=ball_tree, n_neighbors=17 .............................\n",
      "[CV] . algorithm=ball_tree, n_neighbors=17, score=0.653, total=   0.0s\n",
      "[CV] algorithm=ball_tree, n_neighbors=17 .............................\n",
      "[CV] . algorithm=ball_tree, n_neighbors=17, score=0.683, total=   0.0s\n",
      "[CV] algorithm=ball_tree, n_neighbors=17 .............................\n",
      "[CV] . algorithm=ball_tree, n_neighbors=17, score=0.651, total=   0.0s\n",
      "[CV] algorithm=ball_tree, n_neighbors=18 .............................\n",
      "[CV] . algorithm=ball_tree, n_neighbors=18, score=0.660, total=   0.0s\n",
      "[CV] algorithm=ball_tree, n_neighbors=18 .............................\n",
      "[CV] . algorithm=ball_tree, n_neighbors=18, score=0.676, total=   0.0s\n",
      "[CV] algorithm=ball_tree, n_neighbors=18 .............................\n",
      "[CV] . algorithm=ball_tree, n_neighbors=18, score=0.654, total=   0.0s\n",
      "[CV] algorithm=ball_tree, n_neighbors=19 .............................\n",
      "[CV] . algorithm=ball_tree, n_neighbors=19, score=0.653, total=   0.0s\n",
      "[CV] algorithm=ball_tree, n_neighbors=19 .............................\n",
      "[CV] . algorithm=ball_tree, n_neighbors=19, score=0.666, total=   0.0s\n",
      "[CV] algorithm=ball_tree, n_neighbors=19 .............................\n",
      "[CV] . algorithm=ball_tree, n_neighbors=19, score=0.654, total=   0.0s\n",
      "[CV] algorithm=ball_tree, n_neighbors=20 .............................\n",
      "[CV] . algorithm=ball_tree, n_neighbors=20, score=0.643, total=   0.0s\n",
      "[CV] algorithm=ball_tree, n_neighbors=20 .............................\n",
      "[CV] . algorithm=ball_tree, n_neighbors=20, score=0.669, total=   0.0s\n",
      "[CV] algorithm=ball_tree, n_neighbors=20 .............................\n",
      "[CV] . algorithm=ball_tree, n_neighbors=20, score=0.668, total=   0.0s\n",
      "[CV] algorithm=ball_tree, n_neighbors=21 .............................\n",
      "[CV] . algorithm=ball_tree, n_neighbors=21, score=0.649, total=   0.0s\n",
      "[CV] algorithm=ball_tree, n_neighbors=21 .............................\n",
      "[CV] . algorithm=ball_tree, n_neighbors=21, score=0.655, total=   0.0s\n",
      "[CV] algorithm=ball_tree, n_neighbors=21 .............................\n",
      "[CV] . algorithm=ball_tree, n_neighbors=21, score=0.668, total=   0.0s\n",
      "[CV] algorithm=ball_tree, n_neighbors=22 .............................\n",
      "[CV] . algorithm=ball_tree, n_neighbors=22, score=0.649, total=   0.0s\n",
      "[CV] algorithm=ball_tree, n_neighbors=22 .............................\n",
      "[CV] . algorithm=ball_tree, n_neighbors=22, score=0.659, total=   0.0s\n",
      "[CV] algorithm=ball_tree, n_neighbors=22 .............................\n",
      "[CV] . algorithm=ball_tree, n_neighbors=22, score=0.675, total=   0.0s\n",
      "[CV] algorithm=ball_tree, n_neighbors=23 .............................\n",
      "[CV] . algorithm=ball_tree, n_neighbors=23, score=0.646, total=   0.0s\n",
      "[CV] algorithm=ball_tree, n_neighbors=23 .............................\n",
      "[CV] . algorithm=ball_tree, n_neighbors=23, score=0.655, total=   0.0s\n",
      "[CV] algorithm=ball_tree, n_neighbors=23 .............................\n",
      "[CV] . algorithm=ball_tree, n_neighbors=23, score=0.675, total=   0.0s\n",
      "[CV] algorithm=ball_tree, n_neighbors=24 .............................\n",
      "[CV] . algorithm=ball_tree, n_neighbors=24, score=0.625, total=   0.0s\n",
      "[CV] algorithm=ball_tree, n_neighbors=24 .............................\n",
      "[CV] . algorithm=ball_tree, n_neighbors=24, score=0.659, total=   0.0s\n",
      "[CV] algorithm=ball_tree, n_neighbors=24 .............................\n",
      "[CV] . algorithm=ball_tree, n_neighbors=24, score=0.664, total=   0.0s\n"
     ]
    },
    {
     "name": "stderr",
     "output_type": "stream",
     "text": [
      "[Parallel(n_jobs=1)]: Done 288 out of 288 | elapsed:    3.9s finished\n"
     ]
    },
    {
     "data": {
      "text/plain": [
       "GridSearchCV(cv='warn', error_score='raise-deprecating',\n",
       "             estimator=KNeighborsClassifier(algorithm='auto', leaf_size=30,\n",
       "                                            metric='minkowski',\n",
       "                                            metric_params=None, n_jobs=None,\n",
       "                                            n_neighbors=5, p=2,\n",
       "                                            weights='uniform'),\n",
       "             iid='warn', n_jobs=None,\n",
       "             param_grid={'algorithm': ['auto', 'kd_tree', 'brute', 'ball_tree'],\n",
       "                         'n_neighbors': range(1, 25)},\n",
       "             pre_dispatch='2*n_jobs', refit=True, return_train_score=False,\n",
       "             scoring=None, verbose=3)"
      ]
     },
     "execution_count": 30,
     "metadata": {},
     "output_type": "execute_result"
    }
   ],
   "source": [
    "grid.fit(X_train, y_train)"
   ]
  },
  {
   "cell_type": "code",
   "execution_count": 31,
   "metadata": {},
   "outputs": [
    {
     "data": {
      "text/plain": [
       "{'algorithm': 'auto', 'n_neighbors': 11}"
      ]
     },
     "execution_count": 31,
     "metadata": {},
     "output_type": "execute_result"
    }
   ],
   "source": [
    "grid.best_params_"
   ]
  },
  {
   "cell_type": "code",
   "execution_count": 32,
   "metadata": {},
   "outputs": [
    {
     "data": {
      "text/plain": [
       "KNeighborsClassifier(algorithm='auto', leaf_size=30, metric='minkowski',\n",
       "                     metric_params=None, n_jobs=None, n_neighbors=11, p=2,\n",
       "                     weights='uniform')"
      ]
     },
     "execution_count": 32,
     "metadata": {},
     "output_type": "execute_result"
    }
   ],
   "source": [
    "grid.best_estimator_"
   ]
  },
  {
   "cell_type": "markdown",
   "metadata": {},
   "source": [
    "#### KNN Evaluation "
   ]
  },
  {
   "cell_type": "code",
   "execution_count": 33,
   "metadata": {},
   "outputs": [],
   "source": [
    "from sklearn.metrics import classification_report, confusion_matrix"
   ]
  },
  {
   "cell_type": "code",
   "execution_count": 34,
   "metadata": {},
   "outputs": [],
   "source": [
    "grid_predictions = grid.predict(X_test)"
   ]
  },
  {
   "cell_type": "code",
   "execution_count": 35,
   "metadata": {},
   "outputs": [
    {
     "name": "stdout",
     "output_type": "stream",
     "text": [
      "              precision    recall  f1-score   support\n",
      "\n",
      "           0       0.72      0.82      0.77       268\n",
      "           1       0.61      0.47      0.53       161\n",
      "\n",
      "    accuracy                           0.69       429\n",
      "   macro avg       0.66      0.64      0.65       429\n",
      "weighted avg       0.68      0.69      0.68       429\n",
      "\n",
      " \n",
      "[[220  48]\n",
      " [ 86  75]]\n"
     ]
    }
   ],
   "source": [
    "print(classification_report(y_test,grid_predictions))\n",
    "print(\" \")\n",
    "print(confusion_matrix(y_test,grid_predictions))"
   ]
  },
  {
   "cell_type": "markdown",
   "metadata": {},
   "source": [
    "## Random Forests Classifier"
   ]
  },
  {
   "cell_type": "code",
   "execution_count": 36,
   "metadata": {},
   "outputs": [],
   "source": [
    "from sklearn.ensemble import RandomForestClassifier"
   ]
  },
  {
   "cell_type": "markdown",
   "metadata": {},
   "source": [
    "#### Choosing n_estimators value"
   ]
  },
  {
   "cell_type": "code",
   "execution_count": 37,
   "metadata": {},
   "outputs": [],
   "source": [
    "error_rate = []\n",
    "for i in range(1,300):\n",
    "    rfc = RandomForestClassifier(n_estimators=i)\n",
    "    rfc.fit(X_train,y_train)\n",
    "    pred_i = rfc.predict(X_test)\n",
    "    error_rate.append(np.mean(pred_i != y_test))"
   ]
  },
  {
   "cell_type": "code",
   "execution_count": 38,
   "metadata": {
    "scrolled": false
   },
   "outputs": [
    {
     "data": {
      "image/png": "[encoded data removed]",
      "text/plain": [
       "<Figure size 864x432 with 1 Axes>"
      ]
     },
     "metadata": {
      "needs_background": "light"
     },
     "output_type": "display_data"
    }
   ],
   "source": [
    "plt.figure(figsize = (12,6))\n",
    "\n",
    "plt.plot(range(1,300), error_rate,\n",
    "        color='blue',\n",
    "        ls='dashed',\n",
    "        marker='o',\n",
    "        markerfacecolor='red',\n",
    "        markersize=5)\n",
    "plt.title('Error rate Vs n_estimator')\n",
    "plt.xlabel('n_estimators')\n",
    "plt.ylabel('Error rate');"
   ]
  },
  {
   "cell_type": "code",
   "execution_count": 39,
   "metadata": {},
   "outputs": [
    {
     "name": "stdout",
     "output_type": "stream",
     "text": [
      "0.13286713286713286\n"
     ]
    }
   ],
   "source": [
    "print(min(error_rate))"
   ]
  },
  {
   "cell_type": "code",
   "execution_count": 40,
   "metadata": {},
   "outputs": [
    {
     "name": "stdout",
     "output_type": "stream",
     "text": [
      "26\n"
     ]
    }
   ],
   "source": [
    "for i, item in enumerate(error_rate[0:50]):\n",
    "    if item == min(error_rate):\n",
    "        print(i)"
   ]
  },
  {
   "cell_type": "markdown",
   "metadata": {},
   "source": [
    "note 7 : there's only one variable in study (n_estimator), so just this method will be ok to build a good Rando forest classifier"
   ]
  },
  {
   "cell_type": "code",
   "execution_count": 41,
   "metadata": {},
   "outputs": [],
   "source": [
    "rfc = RandomForestClassifier(n_estimators=21)"
   ]
  },
  {
   "cell_type": "code",
   "execution_count": 42,
   "metadata": {},
   "outputs": [
    {
     "data": {
      "text/plain": [
       "RandomForestClassifier(bootstrap=True, class_weight=None, criterion='gini',\n",
       "                       max_depth=None, max_features='auto', max_leaf_nodes=None,\n",
       "                       min_impurity_decrease=0.0, min_impurity_split=None,\n",
       "                       min_samples_leaf=1, min_samples_split=2,\n",
       "                       min_weight_fraction_leaf=0.0, n_estimators=21,\n",
       "                       n_jobs=None, oob_score=False, random_state=None,\n",
       "                       verbose=0, warm_start=False)"
      ]
     },
     "execution_count": 42,
     "metadata": {},
     "output_type": "execute_result"
    }
   ],
   "source": [
    "rfc.fit(X_train, y_train)"
   ]
  },
  {
   "cell_type": "markdown",
   "metadata": {},
   "source": [
    "#### Randon Forest Classifier Evaluation"
   ]
  },
  {
   "cell_type": "code",
   "execution_count": 43,
   "metadata": {},
   "outputs": [],
   "source": [
    "rfc_predictions = rfc.predict(X_test)"
   ]
  },
  {
   "cell_type": "code",
   "execution_count": 44,
   "metadata": {},
   "outputs": [
    {
     "name": "stdout",
     "output_type": "stream",
     "text": [
      "              precision    recall  f1-score   support\n",
      "\n",
      "           0       0.90      0.86      0.88       268\n",
      "           1       0.78      0.84      0.81       161\n",
      "\n",
      "    accuracy                           0.85       429\n",
      "   macro avg       0.84      0.85      0.85       429\n",
      "weighted avg       0.86      0.85      0.85       429\n",
      "\n",
      " \n",
      "[[230  38]\n",
      " [ 25 136]]\n"
     ]
    }
   ],
   "source": [
    "print(classification_report(y_test, rfc_predictions))\n",
    "print(\" \")\n",
    "print(confusion_matrix(y_test,rfc_predictions))"
   ]
  },
  {
   "cell_type": "markdown",
   "metadata": {},
   "source": [
    "## Support Vector Machine Classifier"
   ]
  },
  {
   "cell_type": "code",
   "execution_count": 45,
   "metadata": {},
   "outputs": [],
   "source": [
    "from sklearn.svm import SVC"
   ]
  },
  {
   "cell_type": "markdown",
   "metadata": {},
   "source": [
    "#### Estimating best Classifier paramethers "
   ]
  },
  {
   "cell_type": "code",
   "execution_count": 46,
   "metadata": {},
   "outputs": [],
   "source": [
    "param_grid = {'C':[0.1,1,10,100,1000], 'gamma':[1,0.1,0.001,0.0001]}"
   ]
  },
  {
   "cell_type": "code",
   "execution_count": 47,
   "metadata": {},
   "outputs": [],
   "source": [
    "grid_SVM = GridSearchCV(SVC(), param_grid, verbose = 3)"
   ]
  },
  {
   "cell_type": "code",
   "execution_count": 48,
   "metadata": {},
   "outputs": [
    {
     "name": "stdout",
     "output_type": "stream",
     "text": [
      "Fitting 3 folds for each of 20 candidates, totalling 60 fits\n",
      "[CV] C=0.1, gamma=1 ..................................................\n",
      "[CV] ...................... C=0.1, gamma=1, score=0.622, total=   0.0s\n",
      "[CV] C=0.1, gamma=1 ..................................................\n",
      "[CV] ...................... C=0.1, gamma=1, score=0.624, total=   0.0s\n",
      "[CV] C=0.1, gamma=1 ..................................................\n"
     ]
    },
    {
     "name": "stderr",
     "output_type": "stream",
     "text": [
      "c:\\programdata\\miniconda3\\lib\\site-packages\\sklearn\\model_selection\\_split.py:1978: FutureWarning: The default value of cv will change from 3 to 5 in version 0.22. Specify it explicitly to silence this warning.\n",
      "  warnings.warn(CV_WARNING, FutureWarning)\n",
      "[Parallel(n_jobs=1)]: Using backend SequentialBackend with 1 concurrent workers.\n",
      "[Parallel(n_jobs=1)]: Done   1 out of   1 | elapsed:    0.0s remaining:    0.0s\n",
      "[Parallel(n_jobs=1)]: Done   2 out of   2 | elapsed:    0.0s remaining:    0.0s\n"
     ]
    },
    {
     "name": "stdout",
     "output_type": "stream",
     "text": [
      "[CV] ...................... C=0.1, gamma=1, score=0.623, total=   0.1s\n",
      "[CV] C=0.1, gamma=0.1 ................................................\n",
      "[CV] .................... C=0.1, gamma=0.1, score=0.622, total=   0.0s\n",
      "[CV] C=0.1, gamma=0.1 ................................................\n",
      "[CV] .................... C=0.1, gamma=0.1, score=0.624, total=   0.0s\n",
      "[CV] C=0.1, gamma=0.1 ................................................\n",
      "[CV] .................... C=0.1, gamma=0.1, score=0.623, total=   0.0s\n",
      "[CV] C=0.1, gamma=0.001 ..............................................\n",
      "[CV] .................. C=0.1, gamma=0.001, score=0.667, total=   0.0s\n",
      "[CV] C=0.1, gamma=0.001 ..............................................\n",
      "[CV] .................. C=0.1, gamma=0.001, score=0.669, total=   0.0s\n",
      "[CV] C=0.1, gamma=0.001 ..............................................\n",
      "[CV] .................. C=0.1, gamma=0.001, score=0.657, total=   0.0s\n",
      "[CV] C=0.1, gamma=0.0001 .............................................\n",
      "[CV] ................. C=0.1, gamma=0.0001, score=0.667, total=   0.0s\n",
      "[CV] C=0.1, gamma=0.0001 .............................................\n",
      "[CV] ................. C=0.1, gamma=0.0001, score=0.655, total=   0.0s\n",
      "[CV] C=0.1, gamma=0.0001 .............................................\n",
      "[CV] ................. C=0.1, gamma=0.0001, score=0.668, total=   0.0s\n",
      "[CV] C=1, gamma=1 ....................................................\n",
      "[CV] ........................ C=1, gamma=1, score=0.632, total=   0.0s\n",
      "[CV] C=1, gamma=1 ....................................................\n",
      "[CV] ........................ C=1, gamma=1, score=0.634, total=   0.0s\n",
      "[CV] C=1, gamma=1 ....................................................\n",
      "[CV] ........................ C=1, gamma=1, score=0.647, total=   0.0s\n",
      "[CV] C=1, gamma=0.1 ..................................................\n",
      "[CV] ...................... C=1, gamma=0.1, score=0.653, total=   0.0s\n",
      "[CV] C=1, gamma=0.1 ..................................................\n",
      "[CV] ...................... C=1, gamma=0.1, score=0.676, total=   0.0s\n",
      "[CV] C=1, gamma=0.1 ..................................................\n",
      "[CV] ...................... C=1, gamma=0.1, score=0.661, total=   0.0s\n",
      "[CV] C=1, gamma=0.001 ................................................\n",
      "[CV] .................... C=1, gamma=0.001, score=0.643, total=   0.0s\n",
      "[CV] C=1, gamma=0.001 ................................................\n",
      "[CV] .................... C=1, gamma=0.001, score=0.669, total=   0.0s\n",
      "[CV] C=1, gamma=0.001 ................................................\n",
      "[CV] .................... C=1, gamma=0.001, score=0.657, total=   0.0s\n",
      "[CV] C=1, gamma=0.0001 ...............................................\n",
      "[CV] ................... C=1, gamma=0.0001, score=0.667, total=   0.0s\n",
      "[CV] C=1, gamma=0.0001 ...............................................\n",
      "[CV] ................... C=1, gamma=0.0001, score=0.652, total=   0.0s\n",
      "[CV] C=1, gamma=0.0001 ...............................................\n",
      "[CV] ................... C=1, gamma=0.0001, score=0.675, total=   0.0s\n",
      "[CV] C=10, gamma=1 ...................................................\n",
      "[CV] ....................... C=10, gamma=1, score=0.608, total=   0.0s\n",
      "[CV] C=10, gamma=1 ...................................................\n",
      "[CV] ....................... C=10, gamma=1, score=0.624, total=   0.0s\n",
      "[CV] C=10, gamma=1 ...................................................\n",
      "[CV] ....................... C=10, gamma=1, score=0.630, total=   0.0s\n",
      "[CV] C=10, gamma=0.1 .................................................\n",
      "[CV] ..................... C=10, gamma=0.1, score=0.667, total=   0.0s\n",
      "[CV] C=10, gamma=0.1 .................................................\n",
      "[CV] ..................... C=10, gamma=0.1, score=0.721, total=   0.0s\n",
      "[CV] C=10, gamma=0.1 .................................................\n",
      "[CV] ..................... C=10, gamma=0.1, score=0.692, total=   0.0s\n",
      "[CV] C=10, gamma=0.001 ...............................................\n",
      "[CV] ................... C=10, gamma=0.001, score=0.749, total=   0.0s\n",
      "[CV] C=10, gamma=0.001 ...............................................\n",
      "[CV] ................... C=10, gamma=0.001, score=0.790, total=   0.0s\n",
      "[CV] C=10, gamma=0.001 ...............................................\n",
      "[CV] ................... C=10, gamma=0.001, score=0.765, total=   0.0s\n",
      "[CV] C=10, gamma=0.0001 ..............................................\n",
      "[CV] .................. C=10, gamma=0.0001, score=0.670, total=   0.0s\n",
      "[CV] C=10, gamma=0.0001 ..............................................\n",
      "[CV] .................. C=10, gamma=0.0001, score=0.672, total=   0.0s\n",
      "[CV] C=10, gamma=0.0001 ..............................................\n",
      "[CV] .................. C=10, gamma=0.0001, score=0.671, total=   0.0s\n",
      "[CV] C=100, gamma=1 ..................................................\n",
      "[CV] ...................... C=100, gamma=1, score=0.598, total=   0.0s\n",
      "[CV] C=100, gamma=1 ..................................................\n",
      "[CV] ...................... C=100, gamma=1, score=0.624, total=   0.0s\n",
      "[CV] C=100, gamma=1 ..................................................\n",
      "[CV] ...................... C=100, gamma=1, score=0.633, total=   0.0s\n",
      "[CV] C=100, gamma=0.1 ................................................\n",
      "[CV] .................... C=100, gamma=0.1, score=0.632, total=   0.0s\n",
      "[CV] C=100, gamma=0.1 ................................................\n",
      "[CV] .................... C=100, gamma=0.1, score=0.666, total=   0.0s\n",
      "[CV] C=100, gamma=0.1 ................................................\n",
      "[CV] .................... C=100, gamma=0.1, score=0.699, total=   0.0s\n",
      "[CV] C=100, gamma=0.001 ..............................................\n",
      "[CV] .................. C=100, gamma=0.001, score=0.759, total=   0.1s\n",
      "[CV] C=100, gamma=0.001 ..............................................\n",
      "[CV] .................. C=100, gamma=0.001, score=0.848, total=   0.1s\n",
      "[CV] C=100, gamma=0.001 ..............................................\n",
      "[CV] .................. C=100, gamma=0.001, score=0.837, total=   0.0s\n",
      "[CV] C=100, gamma=0.0001 .............................................\n",
      "[CV] ................. C=100, gamma=0.0001, score=0.787, total=   0.0s\n",
      "[CV] C=100, gamma=0.0001 .............................................\n",
      "[CV] ................. C=100, gamma=0.0001, score=0.845, total=   0.0s\n",
      "[CV] C=100, gamma=0.0001 .............................................\n",
      "[CV] ................. C=100, gamma=0.0001, score=0.837, total=   0.0s\n",
      "[CV] C=1000, gamma=1 .................................................\n",
      "[CV] ..................... C=1000, gamma=1, score=0.598, total=   0.0s\n",
      "[CV] C=1000, gamma=1 .................................................\n",
      "[CV] ..................... C=1000, gamma=1, score=0.624, total=   0.0s\n",
      "[CV] C=1000, gamma=1 .................................................\n",
      "[CV] ..................... C=1000, gamma=1, score=0.626, total=   0.0s\n",
      "[CV] C=1000, gamma=0.1 ...............................................\n",
      "[CV] ................... C=1000, gamma=0.1, score=0.615, total=   0.0s\n",
      "[CV] C=1000, gamma=0.1 ...............................................\n",
      "[CV] ................... C=1000, gamma=0.1, score=0.672, total=   0.0s\n",
      "[CV] C=1000, gamma=0.1 ...............................................\n",
      "[CV] ................... C=1000, gamma=0.1, score=0.699, total=   0.1s\n",
      "[CV] C=1000, gamma=0.001 .............................................\n",
      "[CV] ................. C=1000, gamma=0.001, score=0.790, total=   0.3s\n",
      "[CV] C=1000, gamma=0.001 .............................................\n",
      "[CV] ................. C=1000, gamma=0.001, score=0.803, total=   0.1s\n",
      "[CV] C=1000, gamma=0.001 .............................................\n",
      "[CV] ................. C=1000, gamma=0.001, score=0.806, total=   0.1s\n",
      "[CV] C=1000, gamma=0.0001 ............................................\n",
      "[CV] ................ C=1000, gamma=0.0001, score=0.780, total=   0.1s\n",
      "[CV] C=1000, gamma=0.0001 ............................................\n",
      "[CV] ................ C=1000, gamma=0.0001, score=0.859, total=   0.1s\n",
      "[CV] C=1000, gamma=0.0001 ............................................\n",
      "[CV] ................ C=1000, gamma=0.0001, score=0.834, total=   0.2s\n"
     ]
    },
    {
     "name": "stderr",
     "output_type": "stream",
     "text": [
      "[Parallel(n_jobs=1)]: Done  60 out of  60 | elapsed:    2.5s finished\n"
     ]
    },
    {
     "data": {
      "text/plain": [
       "GridSearchCV(cv='warn', error_score='raise-deprecating',\n",
       "             estimator=SVC(C=1.0, cache_size=200, class_weight=None, coef0=0.0,\n",
       "                           decision_function_shape='ovr', degree=3,\n",
       "                           gamma='auto_deprecated', kernel='rbf', max_iter=-1,\n",
       "                           probability=False, random_state=None, shrinking=True,\n",
       "                           tol=0.001, verbose=False),\n",
       "             iid='warn', n_jobs=None,\n",
       "             param_grid={'C': [0.1, 1, 10, 100, 1000],\n",
       "                         'gamma': [1, 0.1, 0.001, 0.0001]},\n",
       "             pre_dispatch='2*n_jobs', refit=True, return_train_score=False,\n",
       "             scoring=None, verbose=3)"
      ]
     },
     "execution_count": 48,
     "metadata": {},
     "output_type": "execute_result"
    }
   ],
   "source": [
    "grid_SVM.fit(X_train, y_train)"
   ]
  },
  {
   "cell_type": "code",
   "execution_count": 49,
   "metadata": {},
   "outputs": [
    {
     "data": {
      "text/plain": [
       "SVC(C=1000, cache_size=200, class_weight=None, coef0=0.0,\n",
       "    decision_function_shape='ovr', degree=3, gamma=0.0001, kernel='rbf',\n",
       "    max_iter=-1, probability=False, random_state=None, shrinking=True,\n",
       "    tol=0.001, verbose=False)"
      ]
     },
     "execution_count": 49,
     "metadata": {},
     "output_type": "execute_result"
    }
   ],
   "source": [
    "grid_SVM.best_estimator_"
   ]
  },
  {
   "cell_type": "code",
   "execution_count": 50,
   "metadata": {},
   "outputs": [
    {
     "data": {
      "text/plain": [
       "{'C': 1000, 'gamma': 0.0001}"
      ]
     },
     "execution_count": 50,
     "metadata": {},
     "output_type": "execute_result"
    }
   ],
   "source": [
    "grid_SVM.best_params_"
   ]
  },
  {
   "cell_type": "markdown",
   "metadata": {},
   "source": [
    "#### SVM Classifier Evaluation"
   ]
  },
  {
   "cell_type": "code",
   "execution_count": 51,
   "metadata": {},
   "outputs": [],
   "source": [
    "grid_SVM_predict = grid_SVM.predict(X_test)"
   ]
  },
  {
   "cell_type": "code",
   "execution_count": 52,
   "metadata": {
    "scrolled": true
   },
   "outputs": [
    {
     "name": "stdout",
     "output_type": "stream",
     "text": [
      "              precision    recall  f1-score   support\n",
      "\n",
      "           0       0.90      0.91      0.90       268\n",
      "           1       0.85      0.83      0.84       161\n",
      "\n",
      "    accuracy                           0.88       429\n",
      "   macro avg       0.87      0.87      0.87       429\n",
      "weighted avg       0.88      0.88      0.88       429\n",
      "\n",
      " \n",
      "[[244  24]\n",
      " [ 28 133]]\n"
     ]
    }
   ],
   "source": [
    "print(classification_report(y_test, grid_SVM_predict))\n",
    "print(' ')\n",
    "print(confusion_matrix(y_test, grid_SVM_predict))"
   ]
  },
  {
   "cell_type": "markdown",
   "metadata": {},
   "source": [
    "note 8 : the best evaluation score so far "
   ]
  },
  {
   "cell_type": "markdown",
   "metadata": {},
   "source": [
    "## KNN Standardizing the variables"
   ]
  },
  {
   "cell_type": "markdown",
   "metadata": {},
   "source": [
    "let's see how a clustering method performs in this dataset"
   ]
  },
  {
   "cell_type": "code",
   "execution_count": 53,
   "metadata": {},
   "outputs": [],
   "source": [
    "from sklearn.preprocessing import StandardScaler"
   ]
  },
  {
   "cell_type": "code",
   "execution_count": 54,
   "metadata": {},
   "outputs": [],
   "source": [
    "scaler_train = StandardScaler()\n",
    "scaler_test = StandardScaler()"
   ]
  },
  {
   "cell_type": "code",
   "execution_count": 55,
   "metadata": {},
   "outputs": [
    {
     "data": {
      "text/plain": [
       "StandardScaler(copy=True, with_mean=True, with_std=True)"
      ]
     },
     "execution_count": 55,
     "metadata": {},
     "output_type": "execute_result"
    }
   ],
   "source": [
    "scaler_train.fit(X_train)\n",
    "scaler_test.fit(X_test)"
   ]
  },
  {
   "cell_type": "code",
   "execution_count": 56,
   "metadata": {},
   "outputs": [],
   "source": [
    "X_train_transformed = scaler_train.transform(X_train)\n",
    "X_test_transformed = scaler_test.transform(X_test)"
   ]
  },
  {
   "cell_type": "markdown",
   "metadata": {},
   "source": [
    "### Selecting the best k value"
   ]
  },
  {
   "cell_type": "code",
   "execution_count": 57,
   "metadata": {},
   "outputs": [],
   "source": [
    "param_grid ={'n_neighbors':range(1,25),'algorithm': ['auto','kd_tree','brute','ball_tree']}"
   ]
  },
  {
   "cell_type": "code",
   "execution_count": 58,
   "metadata": {},
   "outputs": [],
   "source": [
    "grid_knn_std = GridSearchCV(KNeighborsClassifier(), param_grid, verbose = 3)"
   ]
  },
  {
   "cell_type": "code",
   "execution_count": 59,
   "metadata": {},
   "outputs": [
    {
     "name": "stdout",
     "output_type": "stream",
     "text": [
      "Fitting 3 folds for each of 96 candidates, totalling 288 fits\n",
      "[CV] algorithm=auto, n_neighbors=1 ...................................\n",
      "[CV] ....... algorithm=auto, n_neighbors=1, score=0.749, total=   0.0s\n",
      "[CV] algorithm=auto, n_neighbors=1 ...................................\n",
      "[CV] ....... algorithm=auto, n_neighbors=1, score=0.779, total=   0.0s\n",
      "[CV] algorithm=auto, n_neighbors=1 ...................................\n",
      "[CV] ....... algorithm=auto, n_neighbors=1, score=0.796, total=   0.0s"
     ]
    },
    {
     "name": "stderr",
     "output_type": "stream",
     "text": [
      "c:\\programdata\\miniconda3\\lib\\site-packages\\sklearn\\model_selection\\_split.py:1978: FutureWarning: The default value of cv will change from 3 to 5 in version 0.22. Specify it explicitly to silence this warning.\n",
      "  warnings.warn(CV_WARNING, FutureWarning)\n",
      "[Parallel(n_jobs=1)]: Using backend SequentialBackend with 1 concurrent workers.\n",
      "[Parallel(n_jobs=1)]: Done   1 out of   1 | elapsed:    0.0s remaining:    0.0s\n",
      "[Parallel(n_jobs=1)]: Done   2 out of   2 | elapsed:    0.0s remaining:    0.0s\n"
     ]
    },
    {
     "name": "stdout",
     "output_type": "stream",
     "text": [
      "\n",
      "[CV] algorithm=auto, n_neighbors=2 ...................................\n",
      "[CV] ....... algorithm=auto, n_neighbors=2, score=0.773, total=   0.0s\n",
      "[CV] algorithm=auto, n_neighbors=2 ...................................\n",
      "[CV] ....... algorithm=auto, n_neighbors=2, score=0.803, total=   0.0s\n",
      "[CV] algorithm=auto, n_neighbors=2 ...................................\n",
      "[CV] ....... algorithm=auto, n_neighbors=2, score=0.792, total=   0.0s\n",
      "[CV] algorithm=auto, n_neighbors=3 ...................................\n",
      "[CV] ....... algorithm=auto, n_neighbors=3, score=0.814, total=   0.0s\n",
      "[CV] algorithm=auto, n_neighbors=3 ...................................\n",
      "[CV] ....... algorithm=auto, n_neighbors=3, score=0.834, total=   0.0s\n",
      "[CV] algorithm=auto, n_neighbors=3 ...................................\n",
      "[CV] ....... algorithm=auto, n_neighbors=3, score=0.806, total=   0.0s\n",
      "[CV] algorithm=auto, n_neighbors=4 ...................................\n",
      "[CV] ....... algorithm=auto, n_neighbors=4, score=0.821, total=   0.0s\n",
      "[CV] algorithm=auto, n_neighbors=4 ...................................\n",
      "[CV] ....... algorithm=auto, n_neighbors=4, score=0.838, total=   0.0s\n",
      "[CV] algorithm=auto, n_neighbors=4 ...................................\n",
      "[CV] ....... algorithm=auto, n_neighbors=4, score=0.813, total=   0.0s\n",
      "[CV] algorithm=auto, n_neighbors=5 ...................................\n",
      "[CV] ....... algorithm=auto, n_neighbors=5, score=0.818, total=   0.0s\n",
      "[CV] algorithm=auto, n_neighbors=5 ...................................\n",
      "[CV] ....... algorithm=auto, n_neighbors=5, score=0.845, total=   0.0s\n",
      "[CV] algorithm=auto, n_neighbors=5 ...................................\n",
      "[CV] ....... algorithm=auto, n_neighbors=5, score=0.848, total=   0.0s\n",
      "[CV] algorithm=auto, n_neighbors=6 ...................................\n",
      "[CV] ....... algorithm=auto, n_neighbors=6, score=0.825, total=   0.0s\n",
      "[CV] algorithm=auto, n_neighbors=6 ...................................\n",
      "[CV] ....... algorithm=auto, n_neighbors=6, score=0.855, total=   0.0s\n",
      "[CV] algorithm=auto, n_neighbors=6 ...................................\n",
      "[CV] ....... algorithm=auto, n_neighbors=6, score=0.827, total=   0.0s\n",
      "[CV] algorithm=auto, n_neighbors=7 ...................................\n",
      "[CV] ....... algorithm=auto, n_neighbors=7, score=0.828, total=   0.0s\n",
      "[CV] algorithm=auto, n_neighbors=7 ...................................\n",
      "[CV] ....... algorithm=auto, n_neighbors=7, score=0.848, total=   0.0s\n",
      "[CV] algorithm=auto, n_neighbors=7 ...................................\n",
      "[CV] ....... algorithm=auto, n_neighbors=7, score=0.848, total=   0.0s\n",
      "[CV] algorithm=auto, n_neighbors=8 ...................................\n",
      "[CV] ....... algorithm=auto, n_neighbors=8, score=0.821, total=   0.0s\n",
      "[CV] algorithm=auto, n_neighbors=8 ...................................\n",
      "[CV] ....... algorithm=auto, n_neighbors=8, score=0.845, total=   0.0s\n",
      "[CV] algorithm=auto, n_neighbors=8 ...................................\n",
      "[CV] ....... algorithm=auto, n_neighbors=8, score=0.848, total=   0.0s\n",
      "[CV] algorithm=auto, n_neighbors=9 ...................................\n",
      "[CV] ....... algorithm=auto, n_neighbors=9, score=0.828, total=   0.0s\n",
      "[CV] algorithm=auto, n_neighbors=9 ...................................\n",
      "[CV] ....... algorithm=auto, n_neighbors=9, score=0.831, total=   0.0s\n",
      "[CV] algorithm=auto, n_neighbors=9 ...................................\n",
      "[CV] ....... algorithm=auto, n_neighbors=9, score=0.855, total=   0.0s\n",
      "[CV] algorithm=auto, n_neighbors=10 ..................................\n",
      "[CV] ...... algorithm=auto, n_neighbors=10, score=0.818, total=   0.0s\n",
      "[CV] algorithm=auto, n_neighbors=10 ..................................\n",
      "[CV] ...... algorithm=auto, n_neighbors=10, score=0.848, total=   0.0s\n",
      "[CV] algorithm=auto, n_neighbors=10 ..................................\n",
      "[CV] ...... algorithm=auto, n_neighbors=10, score=0.848, total=   0.0s\n",
      "[CV] algorithm=auto, n_neighbors=11 ..................................\n",
      "[CV] ...... algorithm=auto, n_neighbors=11, score=0.828, total=   0.0s\n",
      "[CV] algorithm=auto, n_neighbors=11 ..................................\n",
      "[CV] ...... algorithm=auto, n_neighbors=11, score=0.855, total=   0.0s\n",
      "[CV] algorithm=auto, n_neighbors=11 ..................................\n",
      "[CV] ...... algorithm=auto, n_neighbors=11, score=0.848, total=   0.0s\n",
      "[CV] algorithm=auto, n_neighbors=12 ..................................\n",
      "[CV] ...... algorithm=auto, n_neighbors=12, score=0.832, total=   0.0s\n",
      "[CV] algorithm=auto, n_neighbors=12 ..................................\n",
      "[CV] ...... algorithm=auto, n_neighbors=12, score=0.848, total=   0.0s\n",
      "[CV] algorithm=auto, n_neighbors=12 ..................................\n",
      "[CV] ...... algorithm=auto, n_neighbors=12, score=0.841, total=   0.0s\n",
      "[CV] algorithm=auto, n_neighbors=13 ..................................\n",
      "[CV] ...... algorithm=auto, n_neighbors=13, score=0.818, total=   0.0s\n",
      "[CV] algorithm=auto, n_neighbors=13 ..................................\n",
      "[CV] ...... algorithm=auto, n_neighbors=13, score=0.841, total=   0.0s\n",
      "[CV] algorithm=auto, n_neighbors=13 ..................................\n",
      "[CV] ...... algorithm=auto, n_neighbors=13, score=0.855, total=   0.0s\n",
      "[CV] algorithm=auto, n_neighbors=14 ..................................\n",
      "[CV] ...... algorithm=auto, n_neighbors=14, score=0.821, total=   0.0s\n",
      "[CV] algorithm=auto, n_neighbors=14 ..................................\n",
      "[CV] ...... algorithm=auto, n_neighbors=14, score=0.852, total=   0.0s\n",
      "[CV] algorithm=auto, n_neighbors=14 ..................................\n",
      "[CV] ...... algorithm=auto, n_neighbors=14, score=0.844, total=   0.0s\n",
      "[CV] algorithm=auto, n_neighbors=15 ..................................\n",
      "[CV] ...... algorithm=auto, n_neighbors=15, score=0.814, total=   0.0s\n",
      "[CV] algorithm=auto, n_neighbors=15 ..................................\n",
      "[CV] ...... algorithm=auto, n_neighbors=15, score=0.845, total=   0.0s\n",
      "[CV] algorithm=auto, n_neighbors=15 ..................................\n",
      "[CV] ...... algorithm=auto, n_neighbors=15, score=0.844, total=   0.0s\n",
      "[CV] algorithm=auto, n_neighbors=16 ..................................\n",
      "[CV] ...... algorithm=auto, n_neighbors=16, score=0.811, total=   0.0s\n",
      "[CV] algorithm=auto, n_neighbors=16 ..................................\n",
      "[CV] ...... algorithm=auto, n_neighbors=16, score=0.845, total=   0.0s\n",
      "[CV] algorithm=auto, n_neighbors=16 ..................................\n",
      "[CV] ...... algorithm=auto, n_neighbors=16, score=0.844, total=   0.0s\n",
      "[CV] algorithm=auto, n_neighbors=17 ..................................\n",
      "[CV] ...... algorithm=auto, n_neighbors=17, score=0.814, total=   0.0s\n",
      "[CV] algorithm=auto, n_neighbors=17 ..................................\n",
      "[CV] ...... algorithm=auto, n_neighbors=17, score=0.834, total=   0.0s\n",
      "[CV] algorithm=auto, n_neighbors=17 ..................................\n",
      "[CV] ...... algorithm=auto, n_neighbors=17, score=0.837, total=   0.0s\n",
      "[CV] algorithm=auto, n_neighbors=18 ..................................\n",
      "[CV] ...... algorithm=auto, n_neighbors=18, score=0.818, total=   0.0s\n",
      "[CV] algorithm=auto, n_neighbors=18 ..................................\n",
      "[CV] ...... algorithm=auto, n_neighbors=18, score=0.834, total=   0.0s\n",
      "[CV] algorithm=auto, n_neighbors=18 ..................................\n",
      "[CV] ...... algorithm=auto, n_neighbors=18, score=0.837, total=   0.0s\n",
      "[CV] algorithm=auto, n_neighbors=19 ..................................\n",
      "[CV] ...... algorithm=auto, n_neighbors=19, score=0.818, total=   0.0s\n",
      "[CV] algorithm=auto, n_neighbors=19 ..................................\n",
      "[CV] ...... algorithm=auto, n_neighbors=19, score=0.831, total=   0.0s\n",
      "[CV] algorithm=auto, n_neighbors=19 ..................................\n",
      "[CV] ...... algorithm=auto, n_neighbors=19, score=0.837, total=   0.0s\n",
      "[CV] algorithm=auto, n_neighbors=20 ..................................\n",
      "[CV] ...... algorithm=auto, n_neighbors=20, score=0.811, total=   0.0s\n",
      "[CV] algorithm=auto, n_neighbors=20 ..................................\n",
      "[CV] ...... algorithm=auto, n_neighbors=20, score=0.852, total=   0.0s\n",
      "[CV] algorithm=auto, n_neighbors=20 ..................................\n",
      "[CV] ...... algorithm=auto, n_neighbors=20, score=0.841, total=   0.0s\n",
      "[CV] algorithm=auto, n_neighbors=21 ..................................\n",
      "[CV] ...... algorithm=auto, n_neighbors=21, score=0.814, total=   0.0s\n",
      "[CV] algorithm=auto, n_neighbors=21 ..................................\n",
      "[CV] ...... algorithm=auto, n_neighbors=21, score=0.841, total=   0.0s\n",
      "[CV] algorithm=auto, n_neighbors=21 ..................................\n",
      "[CV] ...... algorithm=auto, n_neighbors=21, score=0.841, total=   0.0s\n",
      "[CV] algorithm=auto, n_neighbors=22 ..................................\n",
      "[CV] ...... algorithm=auto, n_neighbors=22, score=0.818, total=   0.0s\n",
      "[CV] algorithm=auto, n_neighbors=22 ..................................\n",
      "[CV] ...... algorithm=auto, n_neighbors=22, score=0.852, total=   0.0s\n",
      "[CV] algorithm=auto, n_neighbors=22 ..................................\n",
      "[CV] ...... algorithm=auto, n_neighbors=22, score=0.837, total=   0.0s\n",
      "[CV] algorithm=auto, n_neighbors=23 ..................................\n",
      "[CV] ...... algorithm=auto, n_neighbors=23, score=0.818, total=   0.0s\n",
      "[CV] algorithm=auto, n_neighbors=23 ..................................\n",
      "[CV] ...... algorithm=auto, n_neighbors=23, score=0.845, total=   0.0s\n",
      "[CV] algorithm=auto, n_neighbors=23 ..................................\n",
      "[CV] ...... algorithm=auto, n_neighbors=23, score=0.841, total=   0.0s\n",
      "[CV] algorithm=auto, n_neighbors=24 ..................................\n"
     ]
    },
    {
     "name": "stdout",
     "output_type": "stream",
     "text": [
      "[CV] ...... algorithm=auto, n_neighbors=24, score=0.811, total=   0.0s\n",
      "[CV] algorithm=auto, n_neighbors=24 ..................................\n",
      "[CV] ...... algorithm=auto, n_neighbors=24, score=0.848, total=   0.0s\n",
      "[CV] algorithm=auto, n_neighbors=24 ..................................\n",
      "[CV] ...... algorithm=auto, n_neighbors=24, score=0.830, total=   0.0s\n",
      "[CV] algorithm=kd_tree, n_neighbors=1 ................................\n",
      "[CV] .... algorithm=kd_tree, n_neighbors=1, score=0.749, total=   0.0s\n",
      "[CV] algorithm=kd_tree, n_neighbors=1 ................................\n",
      "[CV] .... algorithm=kd_tree, n_neighbors=1, score=0.779, total=   0.0s\n",
      "[CV] algorithm=kd_tree, n_neighbors=1 ................................\n",
      "[CV] .... algorithm=kd_tree, n_neighbors=1, score=0.796, total=   0.0s\n",
      "[CV] algorithm=kd_tree, n_neighbors=2 ................................\n",
      "[CV] .... algorithm=kd_tree, n_neighbors=2, score=0.773, total=   0.0s\n",
      "[CV] algorithm=kd_tree, n_neighbors=2 ................................\n",
      "[CV] .... algorithm=kd_tree, n_neighbors=2, score=0.803, total=   0.0s\n",
      "[CV] algorithm=kd_tree, n_neighbors=2 ................................\n",
      "[CV] .... algorithm=kd_tree, n_neighbors=2, score=0.792, total=   0.0s\n",
      "[CV] algorithm=kd_tree, n_neighbors=3 ................................\n",
      "[CV] .... algorithm=kd_tree, n_neighbors=3, score=0.814, total=   0.0s\n",
      "[CV] algorithm=kd_tree, n_neighbors=3 ................................\n",
      "[CV] .... algorithm=kd_tree, n_neighbors=3, score=0.834, total=   0.0s\n",
      "[CV] algorithm=kd_tree, n_neighbors=3 ................................\n",
      "[CV] .... algorithm=kd_tree, n_neighbors=3, score=0.806, total=   0.0s\n",
      "[CV] algorithm=kd_tree, n_neighbors=4 ................................\n",
      "[CV] .... algorithm=kd_tree, n_neighbors=4, score=0.821, total=   0.0s\n",
      "[CV] algorithm=kd_tree, n_neighbors=4 ................................\n",
      "[CV] .... algorithm=kd_tree, n_neighbors=4, score=0.838, total=   0.0s\n",
      "[CV] algorithm=kd_tree, n_neighbors=4 ................................\n",
      "[CV] .... algorithm=kd_tree, n_neighbors=4, score=0.813, total=   0.0s\n",
      "[CV] algorithm=kd_tree, n_neighbors=5 ................................\n",
      "[CV] .... algorithm=kd_tree, n_neighbors=5, score=0.818, total=   0.0s\n",
      "[CV] algorithm=kd_tree, n_neighbors=5 ................................\n",
      "[CV] .... algorithm=kd_tree, n_neighbors=5, score=0.845, total=   0.0s\n",
      "[CV] algorithm=kd_tree, n_neighbors=5 ................................\n",
      "[CV] .... algorithm=kd_tree, n_neighbors=5, score=0.848, total=   0.0s\n",
      "[CV] algorithm=kd_tree, n_neighbors=6 ................................\n",
      "[CV] .... algorithm=kd_tree, n_neighbors=6, score=0.825, total=   0.0s\n",
      "[CV] algorithm=kd_tree, n_neighbors=6 ................................\n",
      "[CV] .... algorithm=kd_tree, n_neighbors=6, score=0.855, total=   0.0s\n",
      "[CV] algorithm=kd_tree, n_neighbors=6 ................................\n",
      "[CV] .... algorithm=kd_tree, n_neighbors=6, score=0.827, total=   0.0s\n",
      "[CV] algorithm=kd_tree, n_neighbors=7 ................................\n",
      "[CV] .... algorithm=kd_tree, n_neighbors=7, score=0.828, total=   0.0s\n",
      "[CV] algorithm=kd_tree, n_neighbors=7 ................................\n",
      "[CV] .... algorithm=kd_tree, n_neighbors=7, score=0.848, total=   0.0s\n",
      "[CV] algorithm=kd_tree, n_neighbors=7 ................................\n",
      "[CV] .... algorithm=kd_tree, n_neighbors=7, score=0.848, total=   0.0s\n",
      "[CV] algorithm=kd_tree, n_neighbors=8 ................................\n",
      "[CV] .... algorithm=kd_tree, n_neighbors=8, score=0.821, total=   0.0s\n",
      "[CV] algorithm=kd_tree, n_neighbors=8 ................................\n",
      "[CV] .... algorithm=kd_tree, n_neighbors=8, score=0.845, total=   0.0s\n",
      "[CV] algorithm=kd_tree, n_neighbors=8 ................................\n",
      "[CV] .... algorithm=kd_tree, n_neighbors=8, score=0.848, total=   0.0s\n",
      "[CV] algorithm=kd_tree, n_neighbors=9 ................................\n",
      "[CV] .... algorithm=kd_tree, n_neighbors=9, score=0.828, total=   0.0s\n",
      "[CV] algorithm=kd_tree, n_neighbors=9 ................................\n",
      "[CV] .... algorithm=kd_tree, n_neighbors=9, score=0.831, total=   0.0s\n",
      "[CV] algorithm=kd_tree, n_neighbors=9 ................................\n",
      "[CV] .... algorithm=kd_tree, n_neighbors=9, score=0.855, total=   0.0s\n",
      "[CV] algorithm=kd_tree, n_neighbors=10 ...............................\n",
      "[CV] ... algorithm=kd_tree, n_neighbors=10, score=0.818, total=   0.0s\n",
      "[CV] algorithm=kd_tree, n_neighbors=10 ...............................\n",
      "[CV] ... algorithm=kd_tree, n_neighbors=10, score=0.848, total=   0.0s\n",
      "[CV] algorithm=kd_tree, n_neighbors=10 ...............................\n",
      "[CV] ... algorithm=kd_tree, n_neighbors=10, score=0.848, total=   0.0s\n",
      "[CV] algorithm=kd_tree, n_neighbors=11 ...............................\n",
      "[CV] ... algorithm=kd_tree, n_neighbors=11, score=0.828, total=   0.0s\n",
      "[CV] algorithm=kd_tree, n_neighbors=11 ...............................\n",
      "[CV] ... algorithm=kd_tree, n_neighbors=11, score=0.855, total=   0.0s\n",
      "[CV] algorithm=kd_tree, n_neighbors=11 ...............................\n",
      "[CV] ... algorithm=kd_tree, n_neighbors=11, score=0.848, total=   0.0s\n",
      "[CV] algorithm=kd_tree, n_neighbors=12 ...............................\n",
      "[CV] ... algorithm=kd_tree, n_neighbors=12, score=0.832, total=   0.0s\n",
      "[CV] algorithm=kd_tree, n_neighbors=12 ...............................\n",
      "[CV] ... algorithm=kd_tree, n_neighbors=12, score=0.848, total=   0.0s\n",
      "[CV] algorithm=kd_tree, n_neighbors=12 ...............................\n",
      "[CV] ... algorithm=kd_tree, n_neighbors=12, score=0.841, total=   0.0s\n",
      "[CV] algorithm=kd_tree, n_neighbors=13 ...............................\n",
      "[CV] ... algorithm=kd_tree, n_neighbors=13, score=0.818, total=   0.0s\n",
      "[CV] algorithm=kd_tree, n_neighbors=13 ...............................\n",
      "[CV] ... algorithm=kd_tree, n_neighbors=13, score=0.841, total=   0.0s\n",
      "[CV] algorithm=kd_tree, n_neighbors=13 ...............................\n",
      "[CV] ... algorithm=kd_tree, n_neighbors=13, score=0.855, total=   0.0s\n",
      "[CV] algorithm=kd_tree, n_neighbors=14 ...............................\n",
      "[CV] ... algorithm=kd_tree, n_neighbors=14, score=0.821, total=   0.0s\n",
      "[CV] algorithm=kd_tree, n_neighbors=14 ...............................\n",
      "[CV] ... algorithm=kd_tree, n_neighbors=14, score=0.852, total=   0.0s\n",
      "[CV] algorithm=kd_tree, n_neighbors=14 ...............................\n",
      "[CV] ... algorithm=kd_tree, n_neighbors=14, score=0.844, total=   0.0s\n",
      "[CV] algorithm=kd_tree, n_neighbors=15 ...............................\n",
      "[CV] ... algorithm=kd_tree, n_neighbors=15, score=0.814, total=   0.0s\n",
      "[CV] algorithm=kd_tree, n_neighbors=15 ...............................\n",
      "[CV] ... algorithm=kd_tree, n_neighbors=15, score=0.845, total=   0.0s\n",
      "[CV] algorithm=kd_tree, n_neighbors=15 ...............................\n",
      "[CV] ... algorithm=kd_tree, n_neighbors=15, score=0.844, total=   0.0s\n",
      "[CV] algorithm=kd_tree, n_neighbors=16 ...............................\n",
      "[CV] ... algorithm=kd_tree, n_neighbors=16, score=0.811, total=   0.0s\n",
      "[CV] algorithm=kd_tree, n_neighbors=16 ...............................\n",
      "[CV] ... algorithm=kd_tree, n_neighbors=16, score=0.845, total=   0.0s\n",
      "[CV] algorithm=kd_tree, n_neighbors=16 ...............................\n",
      "[CV] ... algorithm=kd_tree, n_neighbors=16, score=0.844, total=   0.0s\n",
      "[CV] algorithm=kd_tree, n_neighbors=17 ...............................\n",
      "[CV] ... algorithm=kd_tree, n_neighbors=17, score=0.814, total=   0.0s\n",
      "[CV] algorithm=kd_tree, n_neighbors=17 ...............................\n",
      "[CV] ... algorithm=kd_tree, n_neighbors=17, score=0.834, total=   0.0s\n",
      "[CV] algorithm=kd_tree, n_neighbors=17 ...............................\n",
      "[CV] ... algorithm=kd_tree, n_neighbors=17, score=0.837, total=   0.0s\n",
      "[CV] algorithm=kd_tree, n_neighbors=18 ...............................\n",
      "[CV] ... algorithm=kd_tree, n_neighbors=18, score=0.818, total=   0.0s\n",
      "[CV] algorithm=kd_tree, n_neighbors=18 ...............................\n",
      "[CV] ... algorithm=kd_tree, n_neighbors=18, score=0.834, total=   0.0s\n",
      "[CV] algorithm=kd_tree, n_neighbors=18 ...............................\n",
      "[CV] ... algorithm=kd_tree, n_neighbors=18, score=0.837, total=   0.0s\n",
      "[CV] algorithm=kd_tree, n_neighbors=19 ...............................\n",
      "[CV] ... algorithm=kd_tree, n_neighbors=19, score=0.818, total=   0.0s\n",
      "[CV] algorithm=kd_tree, n_neighbors=19 ...............................\n"
     ]
    },
    {
     "name": "stdout",
     "output_type": "stream",
     "text": [
      "[CV] ... algorithm=kd_tree, n_neighbors=19, score=0.831, total=   0.0s\n",
      "[CV] algorithm=kd_tree, n_neighbors=19 ...............................\n",
      "[CV] ... algorithm=kd_tree, n_neighbors=19, score=0.837, total=   0.0s\n",
      "[CV] algorithm=kd_tree, n_neighbors=20 ...............................\n",
      "[CV] ... algorithm=kd_tree, n_neighbors=20, score=0.811, total=   0.0s\n",
      "[CV] algorithm=kd_tree, n_neighbors=20 ...............................\n",
      "[CV] ... algorithm=kd_tree, n_neighbors=20, score=0.852, total=   0.0s\n",
      "[CV] algorithm=kd_tree, n_neighbors=20 ...............................\n",
      "[CV] ... algorithm=kd_tree, n_neighbors=20, score=0.841, total=   0.0s\n",
      "[CV] algorithm=kd_tree, n_neighbors=21 ...............................\n",
      "[CV] ... algorithm=kd_tree, n_neighbors=21, score=0.814, total=   0.0s\n",
      "[CV] algorithm=kd_tree, n_neighbors=21 ...............................\n",
      "[CV] ... algorithm=kd_tree, n_neighbors=21, score=0.841, total=   0.0s\n",
      "[CV] algorithm=kd_tree, n_neighbors=21 ...............................\n",
      "[CV] ... algorithm=kd_tree, n_neighbors=21, score=0.841, total=   0.0s\n",
      "[CV] algorithm=kd_tree, n_neighbors=22 ...............................\n",
      "[CV] ... algorithm=kd_tree, n_neighbors=22, score=0.818, total=   0.0s\n",
      "[CV] algorithm=kd_tree, n_neighbors=22 ...............................\n",
      "[CV] ... algorithm=kd_tree, n_neighbors=22, score=0.852, total=   0.0s\n",
      "[CV] algorithm=kd_tree, n_neighbors=22 ...............................\n",
      "[CV] ... algorithm=kd_tree, n_neighbors=22, score=0.837, total=   0.0s\n",
      "[CV] algorithm=kd_tree, n_neighbors=23 ...............................\n",
      "[CV] ... algorithm=kd_tree, n_neighbors=23, score=0.818, total=   0.0s\n",
      "[CV] algorithm=kd_tree, n_neighbors=23 ...............................\n",
      "[CV] ... algorithm=kd_tree, n_neighbors=23, score=0.845, total=   0.0s\n",
      "[CV] algorithm=kd_tree, n_neighbors=23 ...............................\n",
      "[CV] ... algorithm=kd_tree, n_neighbors=23, score=0.841, total=   0.0s\n",
      "[CV] algorithm=kd_tree, n_neighbors=24 ...............................\n",
      "[CV] ... algorithm=kd_tree, n_neighbors=24, score=0.811, total=   0.0s\n",
      "[CV] algorithm=kd_tree, n_neighbors=24 ...............................\n",
      "[CV] ... algorithm=kd_tree, n_neighbors=24, score=0.848, total=   0.0s\n",
      "[CV] algorithm=kd_tree, n_neighbors=24 ...............................\n",
      "[CV] ... algorithm=kd_tree, n_neighbors=24, score=0.830, total=   0.0s\n",
      "[CV] algorithm=brute, n_neighbors=1 ..................................\n",
      "[CV] ...... algorithm=brute, n_neighbors=1, score=0.746, total=   0.0s\n",
      "[CV] algorithm=brute, n_neighbors=1 ..................................\n",
      "[CV] ...... algorithm=brute, n_neighbors=1, score=0.776, total=   0.0s\n",
      "[CV] algorithm=brute, n_neighbors=1 ..................................\n",
      "[CV] ...... algorithm=brute, n_neighbors=1, score=0.796, total=   0.0s\n",
      "[CV] algorithm=brute, n_neighbors=2 ..................................\n",
      "[CV] ...... algorithm=brute, n_neighbors=2, score=0.773, total=   0.0s\n",
      "[CV] algorithm=brute, n_neighbors=2 ..................................\n",
      "[CV] ...... algorithm=brute, n_neighbors=2, score=0.800, total=   0.0s\n",
      "[CV] algorithm=brute, n_neighbors=2 ..................................\n",
      "[CV] ...... algorithm=brute, n_neighbors=2, score=0.792, total=   0.0s\n",
      "[CV] algorithm=brute, n_neighbors=3 ..................................\n",
      "[CV] ...... algorithm=brute, n_neighbors=3, score=0.814, total=   0.0s\n",
      "[CV] algorithm=brute, n_neighbors=3 ..................................\n",
      "[CV] ...... algorithm=brute, n_neighbors=3, score=0.834, total=   0.0s\n",
      "[CV] algorithm=brute, n_neighbors=3 ..................................\n",
      "[CV] ...... algorithm=brute, n_neighbors=3, score=0.806, total=   0.0s\n",
      "[CV] algorithm=brute, n_neighbors=4 ..................................\n",
      "[CV] ...... algorithm=brute, n_neighbors=4, score=0.821, total=   0.0s\n",
      "[CV] algorithm=brute, n_neighbors=4 ..................................\n",
      "[CV] ...... algorithm=brute, n_neighbors=4, score=0.834, total=   0.0s\n",
      "[CV] algorithm=brute, n_neighbors=4 ..................................\n",
      "[CV] ...... algorithm=brute, n_neighbors=4, score=0.813, total=   0.0s\n",
      "[CV] algorithm=brute, n_neighbors=5 ..................................\n",
      "[CV] ...... algorithm=brute, n_neighbors=5, score=0.818, total=   0.0s\n",
      "[CV] algorithm=brute, n_neighbors=5 ..................................\n",
      "[CV] ...... algorithm=brute, n_neighbors=5, score=0.848, total=   0.0s\n",
      "[CV] algorithm=brute, n_neighbors=5 ..................................\n",
      "[CV] ...... algorithm=brute, n_neighbors=5, score=0.848, total=   0.0s\n",
      "[CV] algorithm=brute, n_neighbors=6 ..................................\n",
      "[CV] ...... algorithm=brute, n_neighbors=6, score=0.825, total=   0.0s\n",
      "[CV] algorithm=brute, n_neighbors=6 ..................................\n",
      "[CV] ...... algorithm=brute, n_neighbors=6, score=0.855, total=   0.0s\n",
      "[CV] algorithm=brute, n_neighbors=6 ..................................\n",
      "[CV] ...... algorithm=brute, n_neighbors=6, score=0.830, total=   0.0s\n",
      "[CV] algorithm=brute, n_neighbors=7 ..................................\n",
      "[CV] ...... algorithm=brute, n_neighbors=7, score=0.828, total=   0.0s\n",
      "[CV] algorithm=brute, n_neighbors=7 ..................................\n",
      "[CV] ...... algorithm=brute, n_neighbors=7, score=0.848, total=   0.0s\n",
      "[CV] algorithm=brute, n_neighbors=7 ..................................\n",
      "[CV] ...... algorithm=brute, n_neighbors=7, score=0.848, total=   0.0s\n",
      "[CV] algorithm=brute, n_neighbors=8 ..................................\n",
      "[CV] ...... algorithm=brute, n_neighbors=8, score=0.821, total=   0.0s\n",
      "[CV] algorithm=brute, n_neighbors=8 ..................................\n",
      "[CV] ...... algorithm=brute, n_neighbors=8, score=0.845, total=   0.0s\n",
      "[CV] algorithm=brute, n_neighbors=8 ..................................\n",
      "[CV] ...... algorithm=brute, n_neighbors=8, score=0.841, total=   0.0s\n",
      "[CV] algorithm=brute, n_neighbors=9 ..................................\n",
      "[CV] ...... algorithm=brute, n_neighbors=9, score=0.828, total=   0.0s\n",
      "[CV] algorithm=brute, n_neighbors=9 ..................................\n",
      "[CV] ...... algorithm=brute, n_neighbors=9, score=0.831, total=   0.0s\n",
      "[CV] algorithm=brute, n_neighbors=9 ..................................\n",
      "[CV] ...... algorithm=brute, n_neighbors=9, score=0.855, total=   0.0s\n",
      "[CV] algorithm=brute, n_neighbors=10 .................................\n",
      "[CV] ..... algorithm=brute, n_neighbors=10, score=0.818, total=   0.0s\n",
      "[CV] algorithm=brute, n_neighbors=10 .................................\n",
      "[CV] ..... algorithm=brute, n_neighbors=10, score=0.848, total=   0.0s\n",
      "[CV] algorithm=brute, n_neighbors=10 .................................\n",
      "[CV] ..... algorithm=brute, n_neighbors=10, score=0.848, total=   0.0s\n",
      "[CV] algorithm=brute, n_neighbors=11 .................................\n",
      "[CV] ..... algorithm=brute, n_neighbors=11, score=0.825, total=   0.0s\n",
      "[CV] algorithm=brute, n_neighbors=11 .................................\n",
      "[CV] ..... algorithm=brute, n_neighbors=11, score=0.855, total=   0.0s\n",
      "[CV] algorithm=brute, n_neighbors=11 .................................\n",
      "[CV] ..... algorithm=brute, n_neighbors=11, score=0.848, total=   0.0s\n",
      "[CV] algorithm=brute, n_neighbors=12 .................................\n",
      "[CV] ..... algorithm=brute, n_neighbors=12, score=0.832, total=   0.0s\n",
      "[CV] algorithm=brute, n_neighbors=12 .................................\n",
      "[CV] ..... algorithm=brute, n_neighbors=12, score=0.852, total=   0.0s\n",
      "[CV] algorithm=brute, n_neighbors=12 .................................\n",
      "[CV] ..... algorithm=brute, n_neighbors=12, score=0.841, total=   0.0s\n",
      "[CV] algorithm=brute, n_neighbors=13 .................................\n",
      "[CV] ..... algorithm=brute, n_neighbors=13, score=0.818, total=   0.0s\n",
      "[CV] algorithm=brute, n_neighbors=13 .................................\n",
      "[CV] ..... algorithm=brute, n_neighbors=13, score=0.845, total=   0.0s\n",
      "[CV] algorithm=brute, n_neighbors=13 .................................\n",
      "[CV] ..... algorithm=brute, n_neighbors=13, score=0.855, total=   0.0s\n",
      "[CV] algorithm=brute, n_neighbors=14 .................................\n",
      "[CV] ..... algorithm=brute, n_neighbors=14, score=0.821, total=   0.0s\n",
      "[CV] algorithm=brute, n_neighbors=14 .................................\n",
      "[CV] ..... algorithm=brute, n_neighbors=14, score=0.852, total=   0.0s\n",
      "[CV] algorithm=brute, n_neighbors=14 .................................\n",
      "[CV] ..... algorithm=brute, n_neighbors=14, score=0.844, total=   0.0s\n",
      "[CV] algorithm=brute, n_neighbors=15 .................................\n",
      "[CV] ..... algorithm=brute, n_neighbors=15, score=0.814, total=   0.0s\n",
      "[CV] algorithm=brute, n_neighbors=15 .................................\n",
      "[CV] ..... algorithm=brute, n_neighbors=15, score=0.845, total=   0.0s\n",
      "[CV] algorithm=brute, n_neighbors=15 .................................\n",
      "[CV] ..... algorithm=brute, n_neighbors=15, score=0.844, total=   0.0s\n",
      "[CV] algorithm=brute, n_neighbors=16 .................................\n"
     ]
    },
    {
     "name": "stdout",
     "output_type": "stream",
     "text": [
      "[CV] ..... algorithm=brute, n_neighbors=16, score=0.811, total=   0.0s\n",
      "[CV] algorithm=brute, n_neighbors=16 .................................\n",
      "[CV] ..... algorithm=brute, n_neighbors=16, score=0.845, total=   0.0s\n",
      "[CV] algorithm=brute, n_neighbors=16 .................................\n",
      "[CV] ..... algorithm=brute, n_neighbors=16, score=0.844, total=   0.0s\n",
      "[CV] algorithm=brute, n_neighbors=17 .................................\n",
      "[CV] ..... algorithm=brute, n_neighbors=17, score=0.814, total=   0.0s\n",
      "[CV] algorithm=brute, n_neighbors=17 .................................\n",
      "[CV] ..... algorithm=brute, n_neighbors=17, score=0.834, total=   0.0s\n",
      "[CV] algorithm=brute, n_neighbors=17 .................................\n",
      "[CV] ..... algorithm=brute, n_neighbors=17, score=0.837, total=   0.0s\n",
      "[CV] algorithm=brute, n_neighbors=18 .................................\n",
      "[CV] ..... algorithm=brute, n_neighbors=18, score=0.818, total=   0.0s\n",
      "[CV] algorithm=brute, n_neighbors=18 .................................\n",
      "[CV] ..... algorithm=brute, n_neighbors=18, score=0.834, total=   0.0s\n",
      "[CV] algorithm=brute, n_neighbors=18 .................................\n",
      "[CV] ..... algorithm=brute, n_neighbors=18, score=0.837, total=   0.0s\n",
      "[CV] algorithm=brute, n_neighbors=19 .................................\n",
      "[CV] ..... algorithm=brute, n_neighbors=19, score=0.818, total=   0.0s\n",
      "[CV] algorithm=brute, n_neighbors=19 .................................\n",
      "[CV] ..... algorithm=brute, n_neighbors=19, score=0.831, total=   0.0s\n",
      "[CV] algorithm=brute, n_neighbors=19 .................................\n",
      "[CV] ..... algorithm=brute, n_neighbors=19, score=0.837, total=   0.0s\n",
      "[CV] algorithm=brute, n_neighbors=20 .................................\n",
      "[CV] ..... algorithm=brute, n_neighbors=20, score=0.811, total=   0.0s\n",
      "[CV] algorithm=brute, n_neighbors=20 .................................\n",
      "[CV] ..... algorithm=brute, n_neighbors=20, score=0.852, total=   0.0s\n",
      "[CV] algorithm=brute, n_neighbors=20 .................................\n",
      "[CV] ..... algorithm=brute, n_neighbors=20, score=0.841, total=   0.0s\n",
      "[CV] algorithm=brute, n_neighbors=21 .................................\n",
      "[CV] ..... algorithm=brute, n_neighbors=21, score=0.814, total=   0.0s\n",
      "[CV] algorithm=brute, n_neighbors=21 .................................\n",
      "[CV] ..... algorithm=brute, n_neighbors=21, score=0.841, total=   0.0s\n",
      "[CV] algorithm=brute, n_neighbors=21 .................................\n",
      "[CV] ..... algorithm=brute, n_neighbors=21, score=0.841, total=   0.0s\n",
      "[CV] algorithm=brute, n_neighbors=22 .................................\n",
      "[CV] ..... algorithm=brute, n_neighbors=22, score=0.818, total=   0.0s\n",
      "[CV] algorithm=brute, n_neighbors=22 .................................\n",
      "[CV] ..... algorithm=brute, n_neighbors=22, score=0.852, total=   0.0s\n",
      "[CV] algorithm=brute, n_neighbors=22 .................................\n",
      "[CV] ..... algorithm=brute, n_neighbors=22, score=0.837, total=   0.0s\n",
      "[CV] algorithm=brute, n_neighbors=23 .................................\n",
      "[CV] ..... algorithm=brute, n_neighbors=23, score=0.818, total=   0.0s\n",
      "[CV] algorithm=brute, n_neighbors=23 .................................\n",
      "[CV] ..... algorithm=brute, n_neighbors=23, score=0.845, total=   0.0s\n",
      "[CV] algorithm=brute, n_neighbors=23 .................................\n",
      "[CV] ..... algorithm=brute, n_neighbors=23, score=0.841, total=   0.0s\n",
      "[CV] algorithm=brute, n_neighbors=24 .................................\n",
      "[CV] ..... algorithm=brute, n_neighbors=24, score=0.811, total=   0.0s\n",
      "[CV] algorithm=brute, n_neighbors=24 .................................\n",
      "[CV] ..... algorithm=brute, n_neighbors=24, score=0.848, total=   0.0s\n",
      "[CV] algorithm=brute, n_neighbors=24 .................................\n",
      "[CV] ..... algorithm=brute, n_neighbors=24, score=0.830, total=   0.0s\n",
      "[CV] algorithm=ball_tree, n_neighbors=1 ..............................\n",
      "[CV] .. algorithm=ball_tree, n_neighbors=1, score=0.749, total=   0.0s\n",
      "[CV] algorithm=ball_tree, n_neighbors=1 ..............................\n",
      "[CV] .. algorithm=ball_tree, n_neighbors=1, score=0.779, total=   0.0s\n",
      "[CV] algorithm=ball_tree, n_neighbors=1 ..............................\n",
      "[CV] .. algorithm=ball_tree, n_neighbors=1, score=0.796, total=   0.0s\n",
      "[CV] algorithm=ball_tree, n_neighbors=2 ..............................\n",
      "[CV] .. algorithm=ball_tree, n_neighbors=2, score=0.773, total=   0.0s\n",
      "[CV] algorithm=ball_tree, n_neighbors=2 ..............................\n",
      "[CV] .. algorithm=ball_tree, n_neighbors=2, score=0.803, total=   0.0s\n",
      "[CV] algorithm=ball_tree, n_neighbors=2 ..............................\n",
      "[CV] .. algorithm=ball_tree, n_neighbors=2, score=0.792, total=   0.0s\n",
      "[CV] algorithm=ball_tree, n_neighbors=3 ..............................\n",
      "[CV] .. algorithm=ball_tree, n_neighbors=3, score=0.814, total=   0.0s\n",
      "[CV] algorithm=ball_tree, n_neighbors=3 ..............................\n",
      "[CV] .. algorithm=ball_tree, n_neighbors=3, score=0.834, total=   0.0s\n",
      "[CV] algorithm=ball_tree, n_neighbors=3 ..............................\n",
      "[CV] .. algorithm=ball_tree, n_neighbors=3, score=0.806, total=   0.0s\n",
      "[CV] algorithm=ball_tree, n_neighbors=4 ..............................\n",
      "[CV] .. algorithm=ball_tree, n_neighbors=4, score=0.821, total=   0.0s\n",
      "[CV] algorithm=ball_tree, n_neighbors=4 ..............................\n",
      "[CV] .. algorithm=ball_tree, n_neighbors=4, score=0.838, total=   0.0s\n",
      "[CV] algorithm=ball_tree, n_neighbors=4 ..............................\n",
      "[CV] .. algorithm=ball_tree, n_neighbors=4, score=0.813, total=   0.0s\n",
      "[CV] algorithm=ball_tree, n_neighbors=5 ..............................\n",
      "[CV] .. algorithm=ball_tree, n_neighbors=5, score=0.818, total=   0.0s\n",
      "[CV] algorithm=ball_tree, n_neighbors=5 ..............................\n",
      "[CV] .. algorithm=ball_tree, n_neighbors=5, score=0.848, total=   0.0s\n",
      "[CV] algorithm=ball_tree, n_neighbors=5 ..............................\n",
      "[CV] .. algorithm=ball_tree, n_neighbors=5, score=0.848, total=   0.0s\n",
      "[CV] algorithm=ball_tree, n_neighbors=6 ..............................\n",
      "[CV] .. algorithm=ball_tree, n_neighbors=6, score=0.825, total=   0.0s\n",
      "[CV] algorithm=ball_tree, n_neighbors=6 ..............................\n",
      "[CV] .. algorithm=ball_tree, n_neighbors=6, score=0.855, total=   0.0s\n",
      "[CV] algorithm=ball_tree, n_neighbors=6 ..............................\n",
      "[CV] .. algorithm=ball_tree, n_neighbors=6, score=0.827, total=   0.0s\n",
      "[CV] algorithm=ball_tree, n_neighbors=7 ..............................\n",
      "[CV] .. algorithm=ball_tree, n_neighbors=7, score=0.828, total=   0.0s\n",
      "[CV] algorithm=ball_tree, n_neighbors=7 ..............................\n",
      "[CV] .. algorithm=ball_tree, n_neighbors=7, score=0.852, total=   0.0s\n",
      "[CV] algorithm=ball_tree, n_neighbors=7 ..............................\n",
      "[CV] .. algorithm=ball_tree, n_neighbors=7, score=0.848, total=   0.0s\n",
      "[CV] algorithm=ball_tree, n_neighbors=8 ..............................\n",
      "[CV] .. algorithm=ball_tree, n_neighbors=8, score=0.821, total=   0.0s\n",
      "[CV] algorithm=ball_tree, n_neighbors=8 ..............................\n",
      "[CV] .. algorithm=ball_tree, n_neighbors=8, score=0.845, total=   0.0s\n",
      "[CV] algorithm=ball_tree, n_neighbors=8 ..............................\n",
      "[CV] .. algorithm=ball_tree, n_neighbors=8, score=0.848, total=   0.0s\n",
      "[CV] algorithm=ball_tree, n_neighbors=9 ..............................\n",
      "[CV] .. algorithm=ball_tree, n_neighbors=9, score=0.828, total=   0.0s\n",
      "[CV] algorithm=ball_tree, n_neighbors=9 ..............................\n",
      "[CV] .. algorithm=ball_tree, n_neighbors=9, score=0.831, total=   0.0s\n",
      "[CV] algorithm=ball_tree, n_neighbors=9 ..............................\n",
      "[CV] .. algorithm=ball_tree, n_neighbors=9, score=0.855, total=   0.0s\n",
      "[CV] algorithm=ball_tree, n_neighbors=10 .............................\n",
      "[CV] . algorithm=ball_tree, n_neighbors=10, score=0.818, total=   0.0s\n",
      "[CV] algorithm=ball_tree, n_neighbors=10 .............................\n",
      "[CV] . algorithm=ball_tree, n_neighbors=10, score=0.848, total=   0.0s\n",
      "[CV] algorithm=ball_tree, n_neighbors=10 .............................\n",
      "[CV] . algorithm=ball_tree, n_neighbors=10, score=0.848, total=   0.0s\n",
      "[CV] algorithm=ball_tree, n_neighbors=11 .............................\n",
      "[CV] . algorithm=ball_tree, n_neighbors=11, score=0.825, total=   0.0s\n",
      "[CV] algorithm=ball_tree, n_neighbors=11 .............................\n"
     ]
    },
    {
     "name": "stdout",
     "output_type": "stream",
     "text": [
      "[CV] . algorithm=ball_tree, n_neighbors=11, score=0.855, total=   0.0s\n",
      "[CV] algorithm=ball_tree, n_neighbors=11 .............................\n",
      "[CV] . algorithm=ball_tree, n_neighbors=11, score=0.848, total=   0.0s\n",
      "[CV] algorithm=ball_tree, n_neighbors=12 .............................\n",
      "[CV] . algorithm=ball_tree, n_neighbors=12, score=0.832, total=   0.0s\n",
      "[CV] algorithm=ball_tree, n_neighbors=12 .............................\n",
      "[CV] . algorithm=ball_tree, n_neighbors=12, score=0.848, total=   0.0s\n",
      "[CV] algorithm=ball_tree, n_neighbors=12 .............................\n",
      "[CV] . algorithm=ball_tree, n_neighbors=12, score=0.841, total=   0.0s\n",
      "[CV] algorithm=ball_tree, n_neighbors=13 .............................\n",
      "[CV] . algorithm=ball_tree, n_neighbors=13, score=0.818, total=   0.0s\n",
      "[CV] algorithm=ball_tree, n_neighbors=13 .............................\n",
      "[CV] . algorithm=ball_tree, n_neighbors=13, score=0.841, total=   0.0s\n",
      "[CV] algorithm=ball_tree, n_neighbors=13 .............................\n",
      "[CV] . algorithm=ball_tree, n_neighbors=13, score=0.855, total=   0.0s\n",
      "[CV] algorithm=ball_tree, n_neighbors=14 .............................\n",
      "[CV] . algorithm=ball_tree, n_neighbors=14, score=0.821, total=   0.0s\n",
      "[CV] algorithm=ball_tree, n_neighbors=14 .............................\n",
      "[CV] . algorithm=ball_tree, n_neighbors=14, score=0.852, total=   0.0s\n",
      "[CV] algorithm=ball_tree, n_neighbors=14 .............................\n",
      "[CV] . algorithm=ball_tree, n_neighbors=14, score=0.844, total=   0.0s\n",
      "[CV] algorithm=ball_tree, n_neighbors=15 .............................\n",
      "[CV] . algorithm=ball_tree, n_neighbors=15, score=0.814, total=   0.0s\n",
      "[CV] algorithm=ball_tree, n_neighbors=15 .............................\n",
      "[CV] . algorithm=ball_tree, n_neighbors=15, score=0.845, total=   0.0s\n",
      "[CV] algorithm=ball_tree, n_neighbors=15 .............................\n",
      "[CV] . algorithm=ball_tree, n_neighbors=15, score=0.844, total=   0.0s\n",
      "[CV] algorithm=ball_tree, n_neighbors=16 .............................\n",
      "[CV] . algorithm=ball_tree, n_neighbors=16, score=0.811, total=   0.0s\n",
      "[CV] algorithm=ball_tree, n_neighbors=16 .............................\n",
      "[CV] . algorithm=ball_tree, n_neighbors=16, score=0.845, total=   0.0s\n",
      "[CV] algorithm=ball_tree, n_neighbors=16 .............................\n",
      "[CV] . algorithm=ball_tree, n_neighbors=16, score=0.844, total=   0.0s\n",
      "[CV] algorithm=ball_tree, n_neighbors=17 .............................\n",
      "[CV] . algorithm=ball_tree, n_neighbors=17, score=0.814, total=   0.0s\n",
      "[CV] algorithm=ball_tree, n_neighbors=17 .............................\n",
      "[CV] . algorithm=ball_tree, n_neighbors=17, score=0.834, total=   0.0s\n",
      "[CV] algorithm=ball_tree, n_neighbors=17 .............................\n",
      "[CV] . algorithm=ball_tree, n_neighbors=17, score=0.837, total=   0.0s\n",
      "[CV] algorithm=ball_tree, n_neighbors=18 .............................\n",
      "[CV] . algorithm=ball_tree, n_neighbors=18, score=0.818, total=   0.0s\n",
      "[CV] algorithm=ball_tree, n_neighbors=18 .............................\n",
      "[CV] . algorithm=ball_tree, n_neighbors=18, score=0.834, total=   0.0s\n",
      "[CV] algorithm=ball_tree, n_neighbors=18 .............................\n",
      "[CV] . algorithm=ball_tree, n_neighbors=18, score=0.837, total=   0.0s\n",
      "[CV] algorithm=ball_tree, n_neighbors=19 .............................\n",
      "[CV] . algorithm=ball_tree, n_neighbors=19, score=0.818, total=   0.0s\n",
      "[CV] algorithm=ball_tree, n_neighbors=19 .............................\n",
      "[CV] . algorithm=ball_tree, n_neighbors=19, score=0.834, total=   0.0s\n",
      "[CV] algorithm=ball_tree, n_neighbors=19 .............................\n",
      "[CV] . algorithm=ball_tree, n_neighbors=19, score=0.837, total=   0.0s\n",
      "[CV] algorithm=ball_tree, n_neighbors=20 .............................\n",
      "[CV] . algorithm=ball_tree, n_neighbors=20, score=0.811, total=   0.0s\n",
      "[CV] algorithm=ball_tree, n_neighbors=20 .............................\n",
      "[CV] . algorithm=ball_tree, n_neighbors=20, score=0.852, total=   0.0s\n",
      "[CV] algorithm=ball_tree, n_neighbors=20 .............................\n",
      "[CV] . algorithm=ball_tree, n_neighbors=20, score=0.841, total=   0.0s\n",
      "[CV] algorithm=ball_tree, n_neighbors=21 .............................\n",
      "[CV] . algorithm=ball_tree, n_neighbors=21, score=0.814, total=   0.0s\n",
      "[CV] algorithm=ball_tree, n_neighbors=21 .............................\n",
      "[CV] . algorithm=ball_tree, n_neighbors=21, score=0.841, total=   0.0s\n",
      "[CV] algorithm=ball_tree, n_neighbors=21 .............................\n",
      "[CV] . algorithm=ball_tree, n_neighbors=21, score=0.841, total=   0.0s\n",
      "[CV] algorithm=ball_tree, n_neighbors=22 .............................\n",
      "[CV] . algorithm=ball_tree, n_neighbors=22, score=0.818, total=   0.0s\n",
      "[CV] algorithm=ball_tree, n_neighbors=22 .............................\n",
      "[CV] . algorithm=ball_tree, n_neighbors=22, score=0.852, total=   0.0s\n",
      "[CV] algorithm=ball_tree, n_neighbors=22 .............................\n",
      "[CV] . algorithm=ball_tree, n_neighbors=22, score=0.837, total=   0.0s\n",
      "[CV] algorithm=ball_tree, n_neighbors=23 .............................\n",
      "[CV] . algorithm=ball_tree, n_neighbors=23, score=0.818, total=   0.0s\n",
      "[CV] algorithm=ball_tree, n_neighbors=23 .............................\n",
      "[CV] . algorithm=ball_tree, n_neighbors=23, score=0.845, total=   0.0s\n",
      "[CV] algorithm=ball_tree, n_neighbors=23 .............................\n",
      "[CV] . algorithm=ball_tree, n_neighbors=23, score=0.841, total=   0.0s\n",
      "[CV] algorithm=ball_tree, n_neighbors=24 .............................\n",
      "[CV] . algorithm=ball_tree, n_neighbors=24, score=0.811, total=   0.0s\n",
      "[CV] algorithm=ball_tree, n_neighbors=24 .............................\n",
      "[CV] . algorithm=ball_tree, n_neighbors=24, score=0.848, total=   0.0s\n",
      "[CV] algorithm=ball_tree, n_neighbors=24 .............................\n",
      "[CV] . algorithm=ball_tree, n_neighbors=24, score=0.830, total=   0.0s\n"
     ]
    },
    {
     "name": "stderr",
     "output_type": "stream",
     "text": [
      "[Parallel(n_jobs=1)]: Done 288 out of 288 | elapsed:    3.9s finished\n"
     ]
    },
    {
     "data": {
      "text/plain": [
       "GridSearchCV(cv='warn', error_score='raise-deprecating',\n",
       "             estimator=KNeighborsClassifier(algorithm='auto', leaf_size=30,\n",
       "                                            metric='minkowski',\n",
       "                                            metric_params=None, n_jobs=None,\n",
       "                                            n_neighbors=5, p=2,\n",
       "                                            weights='uniform'),\n",
       "             iid='warn', n_jobs=None,\n",
       "             param_grid={'algorithm': ['auto', 'kd_tree', 'brute', 'ball_tree'],\n",
       "                         'n_neighbors': range(1, 25)},\n",
       "             pre_dispatch='2*n_jobs', refit=True, return_train_score=False,\n",
       "             scoring=None, verbose=3)"
      ]
     },
     "execution_count": 59,
     "metadata": {},
     "output_type": "execute_result"
    }
   ],
   "source": [
    "grid_knn_std.fit(X_train_transformed, y_train)"
   ]
  },
  {
   "cell_type": "code",
   "execution_count": 60,
   "metadata": {},
   "outputs": [
    {
     "data": {
      "text/plain": [
       "KNeighborsClassifier(algorithm='auto', leaf_size=30, metric='minkowski',\n",
       "                     metric_params=None, n_jobs=None, n_neighbors=11, p=2,\n",
       "                     weights='uniform')"
      ]
     },
     "execution_count": 60,
     "metadata": {},
     "output_type": "execute_result"
    }
   ],
   "source": [
    "grid_knn_std.best_estimator_"
   ]
  },
  {
   "cell_type": "code",
   "execution_count": 61,
   "metadata": {},
   "outputs": [
    {
     "data": {
      "text/plain": [
       "{'algorithm': 'auto', 'n_neighbors': 11}"
      ]
     },
     "execution_count": 61,
     "metadata": {},
     "output_type": "execute_result"
    }
   ],
   "source": [
    "grid_knn_std.best_params_"
   ]
  },
  {
   "cell_type": "code",
   "execution_count": 62,
   "metadata": {},
   "outputs": [
    {
     "data": {
      "text/plain": [
       "0.8436781609195402"
      ]
     },
     "execution_count": 62,
     "metadata": {},
     "output_type": "execute_result"
    }
   ],
   "source": [
    "grid_knn_std.best_score_"
   ]
  },
  {
   "cell_type": "markdown",
   "metadata": {},
   "source": [
    "#### Evaluating the model "
   ]
  },
  {
   "cell_type": "code",
   "execution_count": 63,
   "metadata": {},
   "outputs": [],
   "source": [
    "grid_knn_std_pred = grid_knn_std.predict(X_test_transformed)"
   ]
  },
  {
   "cell_type": "code",
   "execution_count": 64,
   "metadata": {},
   "outputs": [
    {
     "name": "stdout",
     "output_type": "stream",
     "text": [
      "              precision    recall  f1-score   support\n",
      "\n",
      "           0       0.90      0.90      0.90       268\n",
      "           1       0.84      0.83      0.83       161\n",
      "\n",
      "    accuracy                           0.87       429\n",
      "   macro avg       0.87      0.86      0.87       429\n",
      "weighted avg       0.87      0.87      0.87       429\n",
      "\n"
     ]
    }
   ],
   "source": [
    "print(classification_report(y_test,grid_knn_std_pred))"
   ]
  },
  {
   "cell_type": "markdown",
   "metadata": {},
   "source": [
    "note 9: knn performed better when the data is standardized"
   ]
  },
  {
   "cell_type": "markdown",
   "metadata": {},
   "source": [
    "### Reevaluation of Randon forest classifier"
   ]
  },
  {
   "cell_type": "code",
   "execution_count": 65,
   "metadata": {},
   "outputs": [],
   "source": [
    "error_rate = []\n",
    "for i in range(1,300):\n",
    "    rfc = RandomForestClassifier(n_estimators=i)\n",
    "    rfc.fit(X_train_transformed,y_train)\n",
    "    pred_i = rfc.predict(X_test_transformed)\n",
    "    error_rate.append(np.mean(pred_i != y_test))"
   ]
  },
  {
   "cell_type": "code",
   "execution_count": 66,
   "metadata": {},
   "outputs": [
    {
     "data": {
      "image/png": "[encoded data removed]",
      "text/plain": [
       "<Figure size 864x432 with 1 Axes>"
      ]
     },
     "metadata": {
      "needs_background": "light"
     },
     "output_type": "display_data"
    }
   ],
   "source": [
    "plt.figure(figsize = (12,6))\n",
    "\n",
    "plt.plot(range(1,300), error_rate,\n",
    "        color='blue',\n",
    "        ls='dashed',\n",
    "        marker='o',\n",
    "        markerfacecolor='red',\n",
    "        markersize=5)\n",
    "plt.title('Error rate Vs n_estimator')\n",
    "plt.xlabel('n_estimators')\n",
    "plt.ylabel('Error rate');"
   ]
  },
  {
   "cell_type": "markdown",
   "metadata": {},
   "source": [
    "#### Evaluating the model"
   ]
  },
  {
   "cell_type": "code",
   "execution_count": 67,
   "metadata": {},
   "outputs": [
    {
     "name": "stdout",
     "output_type": "stream",
     "text": [
      "194\n"
     ]
    }
   ],
   "source": [
    "for index, error in enumerate(error_rate):\n",
    "    if  min(error_rate) == error:\n",
    "        print(index)"
   ]
  },
  {
   "cell_type": "code",
   "execution_count": 68,
   "metadata": {},
   "outputs": [
    {
     "data": {
      "text/plain": [
       "RandomForestClassifier(bootstrap=True, class_weight=None, criterion='gini',\n",
       "                       max_depth=None, max_features='auto', max_leaf_nodes=None,\n",
       "                       min_impurity_decrease=0.0, min_impurity_split=None,\n",
       "                       min_samples_leaf=1, min_samples_split=2,\n",
       "                       min_weight_fraction_leaf=0.0, n_estimators=41,\n",
       "                       n_jobs=None, oob_score=False, random_state=None,\n",
       "                       verbose=0, warm_start=False)"
      ]
     },
     "execution_count": 68,
     "metadata": {},
     "output_type": "execute_result"
    }
   ],
   "source": [
    "rfc = RandomForestClassifier(n_estimators=41)\n",
    "rfc.fit(X_train_transformed,y_train)"
   ]
  },
  {
   "cell_type": "code",
   "execution_count": 69,
   "metadata": {},
   "outputs": [],
   "source": [
    "rfc_predict_transformed = rfc.predict(X_test_transformed)"
   ]
  },
  {
   "cell_type": "code",
   "execution_count": 70,
   "metadata": {},
   "outputs": [
    {
     "name": "stdout",
     "output_type": "stream",
     "text": [
      "              precision    recall  f1-score   support\n",
      "\n",
      "           0       0.89      0.88      0.88       268\n",
      "           1       0.80      0.81      0.81       161\n",
      "\n",
      "    accuracy                           0.85       429\n",
      "   macro avg       0.84      0.85      0.84       429\n",
      "weighted avg       0.85      0.85      0.85       429\n",
      "\n",
      " \n",
      "[[235  33]\n",
      " [ 30 131]]\n"
     ]
    }
   ],
   "source": [
    "print(classification_report(y_test, rfc_predict_transformed))\n",
    "print(\" \")\n",
    "print(confusion_matrix(y_test, rfc_predict_transformed))"
   ]
  }
 ],
 "metadata": {
  "kernelspec": {
   "display_name": "Python 3",
   "language": "python",
   "name": "python3"
  },
  "language_info": {
   "codemirror_mode": {
    "name": "ipython",
    "version": 3
   },
   "file_extension": ".py",
   "mimetype": "text/x-python",
   "name": "python",
   "nbconvert_exporter": "python",
   "pygments_lexer": "ipython3",
   "version": "3.8.3"
  }
 },
 "nbformat": 4,
 "nbformat_minor": 2
}
